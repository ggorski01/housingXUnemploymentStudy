{
 "cells": [
  {
   "cell_type": "code",
   "execution_count": 1,
   "id": "e4eda4ac",
   "metadata": {},
   "outputs": [],
   "source": [
    "import pandas as pd"
   ]
  },
  {
   "cell_type": "markdown",
   "id": "85df5f1d",
   "metadata": {},
   "source": [
    "### Reference dataset for Housing Market https://www.redfin.com/news/data-center/?msockid=0294473eccc4664c148a52a8cda567d3 -- National Region data\n",
    "### Reference dataset for Unemployment https://www.bls.gov/charts/state-employment-and-unemployment/state-unemployment-rates-animated.htm# -- Gov data"
   ]
  },
  {
   "cell_type": "code",
   "execution_count": 2,
   "id": "7db1d0e9",
   "metadata": {},
   "outputs": [],
   "source": [
    "df_housingMkt = pd.read_excel(r'state_market_tracker_1.xlsx',parse_dates=['PERIOD_BEGIN' ,'PERIOD_END'])"
   ]
  },
  {
   "cell_type": "code",
   "execution_count": 3,
   "id": "e11862c1",
   "metadata": {},
   "outputs": [
    {
     "name": "stdout",
     "output_type": "stream",
     "text": [
      "<class 'pandas.core.frame.DataFrame'>\n",
      "RangeIndex: 39302 entries, 0 to 39301\n",
      "Data columns (total 58 columns):\n",
      " #   Column                          Non-Null Count  Dtype         \n",
      "---  ------                          --------------  -----         \n",
      " 0   PERIOD_BEGIN                    39302 non-null  datetime64[ns]\n",
      " 1   PERIOD_END                      39302 non-null  datetime64[ns]\n",
      " 2   PERIOD_DURATION                 39302 non-null  int64         \n",
      " 3   REGION_TYPE                     39302 non-null  object        \n",
      " 4   REGION_TYPE_ID                  39302 non-null  int64         \n",
      " 5   TABLE_ID                        39302 non-null  int64         \n",
      " 6   IS_SEASONALLY_ADJUSTED          39302 non-null  bool          \n",
      " 7   REGION                          39302 non-null  object        \n",
      " 8   CITY                            0 non-null      float64       \n",
      " 9   STATE                           39302 non-null  object        \n",
      " 10  STATE_CODE                      39302 non-null  object        \n",
      " 11  PROPERTY_TYPE                   39302 non-null  object        \n",
      " 12  PROPERTY_TYPE_ID                39302 non-null  int64         \n",
      " 13  MEDIAN_SALE_PRICE               39302 non-null  int64         \n",
      " 14  MEDIAN_SALE_PRICE_MOM           39302 non-null  float64       \n",
      " 15  MEDIAN_SALE_PRICE_YOY           39302 non-null  float64       \n",
      " 16  MEDIAN_LIST_PRICE               39196 non-null  float64       \n",
      " 17  MEDIAN_LIST_PRICE_MOM           39134 non-null  float64       \n",
      " 18  MEDIAN_LIST_PRICE_YOY           39117 non-null  float64       \n",
      " 19  MEDIAN_PPSF                     39185 non-null  float64       \n",
      " 20  MEDIAN_PPSF_MOM                 39285 non-null  float64       \n",
      " 21  MEDIAN_PPSF_YOY                 39289 non-null  float64       \n",
      " 22  MEDIAN_LIST_PPSF                39196 non-null  float64       \n",
      " 23  MEDIAN_LIST_PPSF_MOM            39134 non-null  float64       \n",
      " 24  MEDIAN_LIST_PPSF_YOY            39117 non-null  float64       \n",
      " 25  HOMES_SOLD                      39302 non-null  int64         \n",
      " 26  HOMES_SOLD_MOM                  39302 non-null  float64       \n",
      " 27  HOMES_SOLD_YOY                  39302 non-null  float64       \n",
      " 28  PENDING_SALES                   39203 non-null  float64       \n",
      " 29  PENDING_SALES_MOM               39185 non-null  float64       \n",
      " 30  PENDING_SALES_YOY               39172 non-null  float64       \n",
      " 31  NEW_LISTINGS                    39196 non-null  float64       \n",
      " 32  NEW_LISTINGS_MOM                39134 non-null  float64       \n",
      " 33  NEW_LISTINGS_YOY                39117 non-null  float64       \n",
      " 34  INVENTORY                       39219 non-null  float64       \n",
      " 35  INVENTORY_MOM                   39213 non-null  float64       \n",
      " 36  INVENTORY_YOY                   39204 non-null  float64       \n",
      " 37  MONTHS_OF_SUPPLY                39219 non-null  float64       \n",
      " 38  MONTHS_OF_SUPPLY_MOM            39213 non-null  float64       \n",
      " 39  MONTHS_OF_SUPPLY_YOY            39204 non-null  float64       \n",
      " 40  MEDIAN_DOM                      39279 non-null  float64       \n",
      " 41  MEDIAN_DOM_MOM                  39273 non-null  float64       \n",
      " 42  MEDIAN_DOM_YOY                  39273 non-null  float64       \n",
      " 43  AVG_SALE_TO_LIST                38039 non-null  float64       \n",
      " 44  AVG_SALE_TO_LIST_MOM            37926 non-null  float64       \n",
      " 45  AVG_SALE_TO_LIST_YOY            37866 non-null  float64       \n",
      " 46  SOLD_ABOVE_LIST                 39251 non-null  float64       \n",
      " 47  SOLD_ABOVE_LIST_MOM             39251 non-null  float64       \n",
      " 48  SOLD_ABOVE_LIST_YOY             39251 non-null  float64       \n",
      " 49  PRICE_DROPS                     31113 non-null  float64       \n",
      " 50  PRICE_DROPS_MOM                 30640 non-null  float64       \n",
      " 51  PRICE_DROPS_YOY                 28950 non-null  float64       \n",
      " 52  OFF_MARKET_IN_TWO_WEEKS         39150 non-null  float64       \n",
      " 53  OFF_MARKET_IN_TWO_WEEKS_MOM     39081 non-null  float64       \n",
      " 54  OFF_MARKET_IN_TWO_WEEKS_YOY     39059 non-null  float64       \n",
      " 55  PARENT_METRO_REGION             39302 non-null  object        \n",
      " 56  PARENT_METRO_REGION_METRO_CODE  0 non-null      float64       \n",
      " 57  LAST_UPDATED                    39302 non-null  datetime64[ns]\n",
      "dtypes: bool(1), datetime64[ns](3), float64(42), int64(6), object(6)\n",
      "memory usage: 17.1+ MB\n"
     ]
    }
   ],
   "source": [
    "df_housingMkt.info()"
   ]
  },
  {
   "cell_type": "code",
   "execution_count": 4,
   "id": "89fb6b51",
   "metadata": {},
   "outputs": [
    {
     "data": {
      "text/html": [
       "<div>\n",
       "<style scoped>\n",
       "    .dataframe tbody tr th:only-of-type {\n",
       "        vertical-align: middle;\n",
       "    }\n",
       "\n",
       "    .dataframe tbody tr th {\n",
       "        vertical-align: top;\n",
       "    }\n",
       "\n",
       "    .dataframe thead th {\n",
       "        text-align: right;\n",
       "    }\n",
       "</style>\n",
       "<table border=\"1\" class=\"dataframe\">\n",
       "  <thead>\n",
       "    <tr style=\"text-align: right;\">\n",
       "      <th></th>\n",
       "      <th>PERIOD_BEGIN</th>\n",
       "      <th>PERIOD_END</th>\n",
       "      <th>PERIOD_DURATION</th>\n",
       "      <th>REGION_TYPE</th>\n",
       "      <th>REGION_TYPE_ID</th>\n",
       "      <th>TABLE_ID</th>\n",
       "      <th>IS_SEASONALLY_ADJUSTED</th>\n",
       "      <th>REGION</th>\n",
       "      <th>CITY</th>\n",
       "      <th>STATE</th>\n",
       "      <th>...</th>\n",
       "      <th>SOLD_ABOVE_LIST_YOY</th>\n",
       "      <th>PRICE_DROPS</th>\n",
       "      <th>PRICE_DROPS_MOM</th>\n",
       "      <th>PRICE_DROPS_YOY</th>\n",
       "      <th>OFF_MARKET_IN_TWO_WEEKS</th>\n",
       "      <th>OFF_MARKET_IN_TWO_WEEKS_MOM</th>\n",
       "      <th>OFF_MARKET_IN_TWO_WEEKS_YOY</th>\n",
       "      <th>PARENT_METRO_REGION</th>\n",
       "      <th>PARENT_METRO_REGION_METRO_CODE</th>\n",
       "      <th>LAST_UPDATED</th>\n",
       "    </tr>\n",
       "  </thead>\n",
       "  <tbody>\n",
       "    <tr>\n",
       "      <th>0</th>\n",
       "      <td>2022-08-01</td>\n",
       "      <td>2022-08-31</td>\n",
       "      <td>30</td>\n",
       "      <td>state</td>\n",
       "      <td>4</td>\n",
       "      <td>21</td>\n",
       "      <td>False</td>\n",
       "      <td>Georgia</td>\n",
       "      <td>NaN</td>\n",
       "      <td>Georgia</td>\n",
       "      <td>...</td>\n",
       "      <td>-0.137543</td>\n",
       "      <td>0.303005</td>\n",
       "      <td>0.032236</td>\n",
       "      <td>0.115019</td>\n",
       "      <td>0.345382</td>\n",
       "      <td>-0.052270</td>\n",
       "      <td>-0.122667</td>\n",
       "      <td>South Region</td>\n",
       "      <td>NaN</td>\n",
       "      <td>2025-04-18 10:40:47.550</td>\n",
       "    </tr>\n",
       "    <tr>\n",
       "      <th>1</th>\n",
       "      <td>2014-07-01</td>\n",
       "      <td>2014-07-31</td>\n",
       "      <td>30</td>\n",
       "      <td>state</td>\n",
       "      <td>4</td>\n",
       "      <td>50</td>\n",
       "      <td>False</td>\n",
       "      <td>Wyoming</td>\n",
       "      <td>NaN</td>\n",
       "      <td>Wyoming</td>\n",
       "      <td>...</td>\n",
       "      <td>0.000000</td>\n",
       "      <td>NaN</td>\n",
       "      <td>NaN</td>\n",
       "      <td>NaN</td>\n",
       "      <td>0.000000</td>\n",
       "      <td>0.000000</td>\n",
       "      <td>0.000000</td>\n",
       "      <td>West Region</td>\n",
       "      <td>NaN</td>\n",
       "      <td>2025-04-18 10:40:47.550</td>\n",
       "    </tr>\n",
       "    <tr>\n",
       "      <th>2</th>\n",
       "      <td>2020-01-01</td>\n",
       "      <td>2020-01-31</td>\n",
       "      <td>30</td>\n",
       "      <td>state</td>\n",
       "      <td>4</td>\n",
       "      <td>49</td>\n",
       "      <td>False</td>\n",
       "      <td>Minnesota</td>\n",
       "      <td>NaN</td>\n",
       "      <td>Minnesota</td>\n",
       "      <td>...</td>\n",
       "      <td>0.125000</td>\n",
       "      <td>0.300000</td>\n",
       "      <td>0.039130</td>\n",
       "      <td>0.152273</td>\n",
       "      <td>0.546207</td>\n",
       "      <td>0.199535</td>\n",
       "      <td>0.201222</td>\n",
       "      <td>Midwest Region</td>\n",
       "      <td>NaN</td>\n",
       "      <td>2025-04-18 10:40:47.550</td>\n",
       "    </tr>\n",
       "  </tbody>\n",
       "</table>\n",
       "<p>3 rows × 58 columns</p>\n",
       "</div>"
      ],
      "text/plain": [
       "  PERIOD_BEGIN PERIOD_END  PERIOD_DURATION REGION_TYPE  REGION_TYPE_ID  \\\n",
       "0   2022-08-01 2022-08-31               30       state               4   \n",
       "1   2014-07-01 2014-07-31               30       state               4   \n",
       "2   2020-01-01 2020-01-31               30       state               4   \n",
       "\n",
       "   TABLE_ID  IS_SEASONALLY_ADJUSTED     REGION  CITY      STATE  ...  \\\n",
       "0        21                   False    Georgia   NaN    Georgia  ...   \n",
       "1        50                   False    Wyoming   NaN    Wyoming  ...   \n",
       "2        49                   False  Minnesota   NaN  Minnesota  ...   \n",
       "\n",
       "  SOLD_ABOVE_LIST_YOY PRICE_DROPS  PRICE_DROPS_MOM  PRICE_DROPS_YOY  \\\n",
       "0           -0.137543    0.303005         0.032236         0.115019   \n",
       "1            0.000000         NaN              NaN              NaN   \n",
       "2            0.125000    0.300000         0.039130         0.152273   \n",
       "\n",
       "   OFF_MARKET_IN_TWO_WEEKS  OFF_MARKET_IN_TWO_WEEKS_MOM  \\\n",
       "0                 0.345382                    -0.052270   \n",
       "1                 0.000000                     0.000000   \n",
       "2                 0.546207                     0.199535   \n",
       "\n",
       "   OFF_MARKET_IN_TWO_WEEKS_YOY  PARENT_METRO_REGION  \\\n",
       "0                    -0.122667         South Region   \n",
       "1                     0.000000          West Region   \n",
       "2                     0.201222       Midwest Region   \n",
       "\n",
       "   PARENT_METRO_REGION_METRO_CODE            LAST_UPDATED  \n",
       "0                             NaN 2025-04-18 10:40:47.550  \n",
       "1                             NaN 2025-04-18 10:40:47.550  \n",
       "2                             NaN 2025-04-18 10:40:47.550  \n",
       "\n",
       "[3 rows x 58 columns]"
      ]
     },
     "execution_count": 4,
     "metadata": {},
     "output_type": "execute_result"
    }
   ],
   "source": [
    "df_housingMkt.head(3)"
   ]
  },
  {
   "cell_type": "code",
   "execution_count": 5,
   "id": "7047a0a2",
   "metadata": {},
   "outputs": [],
   "source": [
    "df_housingMkt = df_housingMkt[['PERIOD_BEGIN','PERIOD_END','STATE','PARENT_METRO_REGION','STATE_CODE','MEDIAN_SALE_PRICE','HOMES_SOLD', 'INVENTORY']].copy()"
   ]
  },
  {
   "cell_type": "code",
   "execution_count": 6,
   "id": "26a24d85",
   "metadata": {},
   "outputs": [
    {
     "name": "stdout",
     "output_type": "stream",
     "text": [
      "<class 'pandas.core.frame.DataFrame'>\n",
      "RangeIndex: 39302 entries, 0 to 39301\n",
      "Data columns (total 8 columns):\n",
      " #   Column               Non-Null Count  Dtype         \n",
      "---  ------               --------------  -----         \n",
      " 0   PERIOD_BEGIN         39302 non-null  datetime64[ns]\n",
      " 1   PERIOD_END           39302 non-null  datetime64[ns]\n",
      " 2   STATE                39302 non-null  object        \n",
      " 3   PARENT_METRO_REGION  39302 non-null  object        \n",
      " 4   STATE_CODE           39302 non-null  object        \n",
      " 5   MEDIAN_SALE_PRICE    39302 non-null  int64         \n",
      " 6   HOMES_SOLD           39302 non-null  int64         \n",
      " 7   INVENTORY            39219 non-null  float64       \n",
      "dtypes: datetime64[ns](2), float64(1), int64(2), object(3)\n",
      "memory usage: 2.4+ MB\n"
     ]
    }
   ],
   "source": [
    "df_housingMkt.info()"
   ]
  },
  {
   "cell_type": "code",
   "execution_count": 7,
   "id": "fef656d9",
   "metadata": {},
   "outputs": [],
   "source": [
    "df_housingMkt.rename(columns={'PARENT_METRO_REGION': 'REGION'}, inplace=True)"
   ]
  },
  {
   "cell_type": "code",
   "execution_count": 8,
   "id": "b986217b",
   "metadata": {},
   "outputs": [
    {
     "name": "stdout",
     "output_type": "stream",
     "text": [
      "<class 'pandas.core.frame.DataFrame'>\n",
      "RangeIndex: 39302 entries, 0 to 39301\n",
      "Data columns (total 8 columns):\n",
      " #   Column             Non-Null Count  Dtype         \n",
      "---  ------             --------------  -----         \n",
      " 0   PERIOD_BEGIN       39302 non-null  datetime64[ns]\n",
      " 1   PERIOD_END         39302 non-null  datetime64[ns]\n",
      " 2   STATE              39302 non-null  object        \n",
      " 3   REGION             39302 non-null  object        \n",
      " 4   STATE_CODE         39302 non-null  object        \n",
      " 5   MEDIAN_SALE_PRICE  39302 non-null  int64         \n",
      " 6   HOMES_SOLD         39302 non-null  int64         \n",
      " 7   INVENTORY          39219 non-null  float64       \n",
      "dtypes: datetime64[ns](2), float64(1), int64(2), object(3)\n",
      "memory usage: 2.4+ MB\n"
     ]
    }
   ],
   "source": [
    "df_housingMkt.info()"
   ]
  },
  {
   "cell_type": "code",
   "execution_count": 9,
   "id": "61e0fb7b",
   "metadata": {},
   "outputs": [],
   "source": [
    "# Create a new column with the numeric month\n",
    "df_housingMkt['MONTH'] = df_housingMkt['PERIOD_BEGIN'].dt.month\n",
    "# Create a new column with the numeric year\n",
    "df_housingMkt['YEAR'] = df_housingMkt['PERIOD_BEGIN'].dt.year"
   ]
  },
  {
   "cell_type": "code",
   "execution_count": 10,
   "id": "66eae7fd",
   "metadata": {},
   "outputs": [
    {
     "data": {
      "text/html": [
       "<div>\n",
       "<style scoped>\n",
       "    .dataframe tbody tr th:only-of-type {\n",
       "        vertical-align: middle;\n",
       "    }\n",
       "\n",
       "    .dataframe tbody tr th {\n",
       "        vertical-align: top;\n",
       "    }\n",
       "\n",
       "    .dataframe thead th {\n",
       "        text-align: right;\n",
       "    }\n",
       "</style>\n",
       "<table border=\"1\" class=\"dataframe\">\n",
       "  <thead>\n",
       "    <tr style=\"text-align: right;\">\n",
       "      <th></th>\n",
       "      <th>PERIOD_BEGIN</th>\n",
       "      <th>PERIOD_END</th>\n",
       "      <th>STATE</th>\n",
       "      <th>REGION</th>\n",
       "      <th>STATE_CODE</th>\n",
       "      <th>MEDIAN_SALE_PRICE</th>\n",
       "      <th>HOMES_SOLD</th>\n",
       "      <th>INVENTORY</th>\n",
       "      <th>MONTH</th>\n",
       "      <th>YEAR</th>\n",
       "    </tr>\n",
       "  </thead>\n",
       "  <tbody>\n",
       "    <tr>\n",
       "      <th>0</th>\n",
       "      <td>2022-08-01</td>\n",
       "      <td>2022-08-31</td>\n",
       "      <td>Georgia</td>\n",
       "      <td>South Region</td>\n",
       "      <td>GA</td>\n",
       "      <td>354700</td>\n",
       "      <td>13970</td>\n",
       "      <td>38874.0</td>\n",
       "      <td>8</td>\n",
       "      <td>2022</td>\n",
       "    </tr>\n",
       "    <tr>\n",
       "      <th>1</th>\n",
       "      <td>2014-07-01</td>\n",
       "      <td>2014-07-31</td>\n",
       "      <td>Wyoming</td>\n",
       "      <td>West Region</td>\n",
       "      <td>WY</td>\n",
       "      <td>168500</td>\n",
       "      <td>9</td>\n",
       "      <td>4.0</td>\n",
       "      <td>7</td>\n",
       "      <td>2014</td>\n",
       "    </tr>\n",
       "    <tr>\n",
       "      <th>2</th>\n",
       "      <td>2020-01-01</td>\n",
       "      <td>2020-01-31</td>\n",
       "      <td>Minnesota</td>\n",
       "      <td>Midwest Region</td>\n",
       "      <td>MN</td>\n",
       "      <td>258900</td>\n",
       "      <td>90</td>\n",
       "      <td>140.0</td>\n",
       "      <td>1</td>\n",
       "      <td>2020</td>\n",
       "    </tr>\n",
       "    <tr>\n",
       "      <th>3</th>\n",
       "      <td>2020-08-01</td>\n",
       "      <td>2020-08-31</td>\n",
       "      <td>Oklahoma</td>\n",
       "      <td>South Region</td>\n",
       "      <td>OK</td>\n",
       "      <td>197900</td>\n",
       "      <td>5247</td>\n",
       "      <td>9088.0</td>\n",
       "      <td>8</td>\n",
       "      <td>2020</td>\n",
       "    </tr>\n",
       "    <tr>\n",
       "      <th>4</th>\n",
       "      <td>2018-12-01</td>\n",
       "      <td>2018-12-31</td>\n",
       "      <td>Idaho</td>\n",
       "      <td>West Region</td>\n",
       "      <td>ID</td>\n",
       "      <td>353000</td>\n",
       "      <td>44</td>\n",
       "      <td>103.0</td>\n",
       "      <td>12</td>\n",
       "      <td>2018</td>\n",
       "    </tr>\n",
       "    <tr>\n",
       "      <th>5</th>\n",
       "      <td>2020-06-01</td>\n",
       "      <td>2020-06-30</td>\n",
       "      <td>Virginia</td>\n",
       "      <td>South Region</td>\n",
       "      <td>VA</td>\n",
       "      <td>271700</td>\n",
       "      <td>1040</td>\n",
       "      <td>1944.0</td>\n",
       "      <td>6</td>\n",
       "      <td>2020</td>\n",
       "    </tr>\n",
       "    <tr>\n",
       "      <th>6</th>\n",
       "      <td>2012-01-01</td>\n",
       "      <td>2012-01-31</td>\n",
       "      <td>Ohio</td>\n",
       "      <td>Midwest Region</td>\n",
       "      <td>OH</td>\n",
       "      <td>31600</td>\n",
       "      <td>154</td>\n",
       "      <td>2241.0</td>\n",
       "      <td>1</td>\n",
       "      <td>2012</td>\n",
       "    </tr>\n",
       "    <tr>\n",
       "      <th>7</th>\n",
       "      <td>2016-12-01</td>\n",
       "      <td>2016-12-31</td>\n",
       "      <td>Arkansas</td>\n",
       "      <td>South Region</td>\n",
       "      <td>AR</td>\n",
       "      <td>147700</td>\n",
       "      <td>2392</td>\n",
       "      <td>9832.0</td>\n",
       "      <td>12</td>\n",
       "      <td>2016</td>\n",
       "    </tr>\n",
       "    <tr>\n",
       "      <th>8</th>\n",
       "      <td>2018-03-01</td>\n",
       "      <td>2018-03-31</td>\n",
       "      <td>Ohio</td>\n",
       "      <td>Midwest Region</td>\n",
       "      <td>OH</td>\n",
       "      <td>148800</td>\n",
       "      <td>10271</td>\n",
       "      <td>33402.0</td>\n",
       "      <td>3</td>\n",
       "      <td>2018</td>\n",
       "    </tr>\n",
       "    <tr>\n",
       "      <th>9</th>\n",
       "      <td>2021-08-01</td>\n",
       "      <td>2021-08-31</td>\n",
       "      <td>Montana</td>\n",
       "      <td>West Region</td>\n",
       "      <td>MT</td>\n",
       "      <td>371500</td>\n",
       "      <td>99</td>\n",
       "      <td>322.0</td>\n",
       "      <td>8</td>\n",
       "      <td>2021</td>\n",
       "    </tr>\n",
       "  </tbody>\n",
       "</table>\n",
       "</div>"
      ],
      "text/plain": [
       "  PERIOD_BEGIN PERIOD_END      STATE          REGION STATE_CODE  \\\n",
       "0   2022-08-01 2022-08-31    Georgia    South Region         GA   \n",
       "1   2014-07-01 2014-07-31    Wyoming     West Region         WY   \n",
       "2   2020-01-01 2020-01-31  Minnesota  Midwest Region         MN   \n",
       "3   2020-08-01 2020-08-31   Oklahoma    South Region         OK   \n",
       "4   2018-12-01 2018-12-31      Idaho     West Region         ID   \n",
       "5   2020-06-01 2020-06-30   Virginia    South Region         VA   \n",
       "6   2012-01-01 2012-01-31       Ohio  Midwest Region         OH   \n",
       "7   2016-12-01 2016-12-31   Arkansas    South Region         AR   \n",
       "8   2018-03-01 2018-03-31       Ohio  Midwest Region         OH   \n",
       "9   2021-08-01 2021-08-31    Montana     West Region         MT   \n",
       "\n",
       "   MEDIAN_SALE_PRICE  HOMES_SOLD  INVENTORY  MONTH  YEAR  \n",
       "0             354700       13970    38874.0      8  2022  \n",
       "1             168500           9        4.0      7  2014  \n",
       "2             258900          90      140.0      1  2020  \n",
       "3             197900        5247     9088.0      8  2020  \n",
       "4             353000          44      103.0     12  2018  \n",
       "5             271700        1040     1944.0      6  2020  \n",
       "6              31600         154     2241.0      1  2012  \n",
       "7             147700        2392     9832.0     12  2016  \n",
       "8             148800       10271    33402.0      3  2018  \n",
       "9             371500          99      322.0      8  2021  "
      ]
     },
     "execution_count": 10,
     "metadata": {},
     "output_type": "execute_result"
    }
   ],
   "source": [
    "df_housingMkt.head(10)"
   ]
  },
  {
   "cell_type": "markdown",
   "id": "32fe7ef4",
   "metadata": {},
   "source": [
    "Cleaning up the Unemployment dataset."
   ]
  },
  {
   "cell_type": "code",
   "execution_count": 11,
   "id": "9534e1d5",
   "metadata": {},
   "outputs": [],
   "source": [
    "df_unemployment = pd.read_csv(r'Unemployment in America Per US State.csv')"
   ]
  },
  {
   "cell_type": "code",
   "execution_count": 12,
   "id": "519dcc41",
   "metadata": {},
   "outputs": [
    {
     "name": "stdout",
     "output_type": "stream",
     "text": [
      "<class 'pandas.core.frame.DataFrame'>\n",
      "RangeIndex: 29892 entries, 0 to 29891\n",
      "Data columns (total 11 columns):\n",
      " #   Column                                                     Non-Null Count  Dtype  \n",
      "---  ------                                                     --------------  -----  \n",
      " 0   FIPS Code                                                  29892 non-null  int64  \n",
      " 1   State/Area                                                 29892 non-null  object \n",
      " 2   Year                                                       29892 non-null  int64  \n",
      " 3   Month                                                      29892 non-null  int64  \n",
      " 4   Total Civilian Non-Institutional Population in State/Area  29892 non-null  object \n",
      " 5   Total Civilian Labor Force in State/Area                   29892 non-null  object \n",
      " 6   Percent (%) of State/Area's Population                     29892 non-null  float64\n",
      " 7   Total Employment in State/Area                             29892 non-null  object \n",
      " 8   Percent (%) of Labor Force Employed in State/Area          29892 non-null  float64\n",
      " 9   Total Unemployment in State/Area                           29892 non-null  object \n",
      " 10  Percent (%) of Labor Force Unemployed in State/Area        29892 non-null  float64\n",
      "dtypes: float64(3), int64(3), object(5)\n",
      "memory usage: 2.5+ MB\n"
     ]
    }
   ],
   "source": [
    "df_unemployment.info()"
   ]
  },
  {
   "cell_type": "code",
   "execution_count": 13,
   "id": "fc45fd62",
   "metadata": {},
   "outputs": [],
   "source": [
    "#Convert column names to uppercase to easy merge datasets later.\n",
    "df_unemployment.columns = df_unemployment.columns.str.upper()"
   ]
  },
  {
   "cell_type": "code",
   "execution_count": 14,
   "id": "4e16a42a",
   "metadata": {},
   "outputs": [],
   "source": [
    "#Drop FIPS column (will not need in the analysis)\n",
    "df_unemployment.drop(\"FIPS CODE\", axis=1, inplace=True)"
   ]
  },
  {
   "cell_type": "code",
   "execution_count": 15,
   "id": "8bd1e4af",
   "metadata": {},
   "outputs": [
    {
     "name": "stdout",
     "output_type": "stream",
     "text": [
      "<class 'pandas.core.frame.DataFrame'>\n",
      "RangeIndex: 29892 entries, 0 to 29891\n",
      "Data columns (total 10 columns):\n",
      " #   Column                                                     Non-Null Count  Dtype  \n",
      "---  ------                                                     --------------  -----  \n",
      " 0   STATE/AREA                                                 29892 non-null  object \n",
      " 1   YEAR                                                       29892 non-null  int64  \n",
      " 2   MONTH                                                      29892 non-null  int64  \n",
      " 3   TOTAL CIVILIAN NON-INSTITUTIONAL POPULATION IN STATE/AREA  29892 non-null  object \n",
      " 4   TOTAL CIVILIAN LABOR FORCE IN STATE/AREA                   29892 non-null  object \n",
      " 5   PERCENT (%) OF STATE/AREA'S POPULATION                     29892 non-null  float64\n",
      " 6   TOTAL EMPLOYMENT IN STATE/AREA                             29892 non-null  object \n",
      " 7   PERCENT (%) OF LABOR FORCE EMPLOYED IN STATE/AREA          29892 non-null  float64\n",
      " 8   TOTAL UNEMPLOYMENT IN STATE/AREA                           29892 non-null  object \n",
      " 9   PERCENT (%) OF LABOR FORCE UNEMPLOYED IN STATE/AREA        29892 non-null  float64\n",
      "dtypes: float64(3), int64(2), object(5)\n",
      "memory usage: 2.3+ MB\n"
     ]
    }
   ],
   "source": [
    "df_unemployment.info()"
   ]
  },
  {
   "cell_type": "code",
   "execution_count": 16,
   "id": "b2c75399",
   "metadata": {},
   "outputs": [
    {
     "name": "stdout",
     "output_type": "stream",
     "text": [
      "Housing Mkt minimum year: 2012 \n",
      "Housing Mkt maximum year: 2025\n",
      "\n",
      "Unemployment minimum year: 1976 \n",
      "Unemployment maximum year: 2022\n",
      "\n",
      "Housing # of records before cleanup:  39302\n",
      "Unemployment # of records before cleanup:  29892\n"
     ]
    }
   ],
   "source": [
    "#Find the time range for analysis on both datasets\n",
    "minYearHouseMkt = df_housingMkt['YEAR'].min()\n",
    "maxYearHouseMkt = df_housingMkt['YEAR'].max()\n",
    "print(\"Housing Mkt minimum year:\",minYearHouseMkt,\"\\nHousing Mkt maximum year:\",maxYearHouseMkt)\n",
    "\n",
    "minYearUnemployment = df_unemployment['YEAR'].min()\n",
    "maxYearUnemployment = df_unemployment['YEAR'].max()\n",
    "print(\"\\nUnemployment minimum year:\",minYearUnemployment,\"\\nUnemployment maximum year:\",maxYearUnemployment)\n",
    "\n",
    "#Amount of records before cleanup\n",
    "print(\"\\nHousing # of records before cleanup: \",df_housingMkt.shape[0])\n",
    "print(\"Unemployment # of records before cleanup: \",df_unemployment.shape[0])"
   ]
  },
  {
   "cell_type": "markdown",
   "id": "72525eec",
   "metadata": {},
   "source": [
    "The new dataset should be between 2012 to 2022 to avoid NA entries when merged."
   ]
  },
  {
   "cell_type": "code",
   "execution_count": 17,
   "id": "e8735b0c",
   "metadata": {},
   "outputs": [],
   "source": [
    "df_unemployment = df_unemployment[(df_unemployment['YEAR'] >= 2012) & (df_unemployment['YEAR'] <= 2022)]\n",
    "df_housingMkt = df_housingMkt[(df_housingMkt['YEAR'] >= 2012) & (df_housingMkt['YEAR'] <= 2022)]"
   ]
  },
  {
   "cell_type": "markdown",
   "id": "8d170d9d",
   "metadata": {},
   "source": [
    "Lets validate the data is within new range."
   ]
  },
  {
   "cell_type": "code",
   "execution_count": 18,
   "id": "aadf5a59",
   "metadata": {},
   "outputs": [
    {
     "name": "stdout",
     "output_type": "stream",
     "text": [
      "Housing Mkt minimum year: 2012 \n",
      "Housing Mkt maximum year: 2022\n",
      "\n",
      "Unemployment minimum year: 2012 \n",
      "Unemployment maximum year: 2022\n",
      "\n",
      "Housing # of records after cleanup:  32541\n",
      "Unemployment # of records before cleanup:  6996\n"
     ]
    }
   ],
   "source": [
    "#Find the time range for analysis on both datasets\n",
    "minYearHouseMkt = df_housingMkt['YEAR'].min()\n",
    "maxYearHouseMkt = df_housingMkt['YEAR'].max()\n",
    "print(\"Housing Mkt minimum year:\",minYearHouseMkt,\"\\nHousing Mkt maximum year:\",maxYearHouseMkt)\n",
    "\n",
    "minYearUnemployment = df_unemployment['YEAR'].min()\n",
    "maxYearUnemployment = df_unemployment['YEAR'].max()\n",
    "print(\"\\nUnemployment minimum year:\",minYearUnemployment,\"\\nUnemployment maximum year:\",maxYearUnemployment)\n",
    "\n",
    "#Amount of records after cleanup\n",
    "print(\"\\nHousing # of records after cleanup: \",df_housingMkt.shape[0])\n",
    "print(\"Unemployment # of records before cleanup: \",df_unemployment.shape[0])"
   ]
  },
  {
   "cell_type": "code",
   "execution_count": 19,
   "id": "c79f21be",
   "metadata": {},
   "outputs": [
    {
     "data": {
      "text/html": [
       "<div>\n",
       "<style scoped>\n",
       "    .dataframe tbody tr th:only-of-type {\n",
       "        vertical-align: middle;\n",
       "    }\n",
       "\n",
       "    .dataframe tbody tr th {\n",
       "        vertical-align: top;\n",
       "    }\n",
       "\n",
       "    .dataframe thead th {\n",
       "        text-align: right;\n",
       "    }\n",
       "</style>\n",
       "<table border=\"1\" class=\"dataframe\">\n",
       "  <thead>\n",
       "    <tr style=\"text-align: right;\">\n",
       "      <th></th>\n",
       "      <th>STATE/AREA</th>\n",
       "      <th>YEAR</th>\n",
       "      <th>MONTH</th>\n",
       "      <th>TOTAL CIVILIAN NON-INSTITUTIONAL POPULATION IN STATE/AREA</th>\n",
       "      <th>TOTAL CIVILIAN LABOR FORCE IN STATE/AREA</th>\n",
       "      <th>PERCENT (%) OF STATE/AREA'S POPULATION</th>\n",
       "      <th>TOTAL EMPLOYMENT IN STATE/AREA</th>\n",
       "      <th>PERCENT (%) OF LABOR FORCE EMPLOYED IN STATE/AREA</th>\n",
       "      <th>TOTAL UNEMPLOYMENT IN STATE/AREA</th>\n",
       "      <th>PERCENT (%) OF LABOR FORCE UNEMPLOYED IN STATE/AREA</th>\n",
       "    </tr>\n",
       "  </thead>\n",
       "  <tbody>\n",
       "    <tr>\n",
       "      <th>22896</th>\n",
       "      <td>Alabama</td>\n",
       "      <td>2012</td>\n",
       "      <td>1</td>\n",
       "      <td>3,736,437</td>\n",
       "      <td>2,179,750</td>\n",
       "      <td>58.3</td>\n",
       "      <td>1,993,523</td>\n",
       "      <td>53.4</td>\n",
       "      <td>186,227</td>\n",
       "      <td>8.5</td>\n",
       "    </tr>\n",
       "    <tr>\n",
       "      <th>22897</th>\n",
       "      <td>Alaska</td>\n",
       "      <td>2012</td>\n",
       "      <td>1</td>\n",
       "      <td>532,472</td>\n",
       "      <td>365,200</td>\n",
       "      <td>68.6</td>\n",
       "      <td>337,946</td>\n",
       "      <td>63.5</td>\n",
       "      <td>27,254</td>\n",
       "      <td>7.5</td>\n",
       "    </tr>\n",
       "    <tr>\n",
       "      <th>22898</th>\n",
       "      <td>Arizona</td>\n",
       "      <td>2012</td>\n",
       "      <td>1</td>\n",
       "      <td>4,970,220</td>\n",
       "      <td>3,048,161</td>\n",
       "      <td>61.3</td>\n",
       "      <td>2,782,738</td>\n",
       "      <td>56.0</td>\n",
       "      <td>265,423</td>\n",
       "      <td>8.7</td>\n",
       "    </tr>\n",
       "  </tbody>\n",
       "</table>\n",
       "</div>"
      ],
      "text/plain": [
       "      STATE/AREA  YEAR  MONTH  \\\n",
       "22896    Alabama  2012      1   \n",
       "22897     Alaska  2012      1   \n",
       "22898    Arizona  2012      1   \n",
       "\n",
       "      TOTAL CIVILIAN NON-INSTITUTIONAL POPULATION IN STATE/AREA  \\\n",
       "22896                                       3,736,437             \n",
       "22897                                         532,472             \n",
       "22898                                       4,970,220             \n",
       "\n",
       "      TOTAL CIVILIAN LABOR FORCE IN STATE/AREA  \\\n",
       "22896                             2,179,750      \n",
       "22897                               365,200      \n",
       "22898                             3,048,161      \n",
       "\n",
       "       PERCENT (%) OF STATE/AREA'S POPULATION TOTAL EMPLOYMENT IN STATE/AREA  \\\n",
       "22896                                    58.3                   1,993,523      \n",
       "22897                                    68.6                     337,946      \n",
       "22898                                    61.3                   2,782,738      \n",
       "\n",
       "       PERCENT (%) OF LABOR FORCE EMPLOYED IN STATE/AREA  \\\n",
       "22896                                               53.4   \n",
       "22897                                               63.5   \n",
       "22898                                               56.0   \n",
       "\n",
       "      TOTAL UNEMPLOYMENT IN STATE/AREA  \\\n",
       "22896                       186,227      \n",
       "22897                        27,254      \n",
       "22898                       265,423      \n",
       "\n",
       "       PERCENT (%) OF LABOR FORCE UNEMPLOYED IN STATE/AREA  \n",
       "22896                                                8.5    \n",
       "22897                                                7.5    \n",
       "22898                                                8.7    "
      ]
     },
     "execution_count": 19,
     "metadata": {},
     "output_type": "execute_result"
    }
   ],
   "source": [
    "df_unemployment.head(3)"
   ]
  },
  {
   "cell_type": "code",
   "execution_count": 20,
   "id": "32e6b9e0",
   "metadata": {},
   "outputs": [],
   "source": [
    "df_unemployment.rename(columns={'STATE/AREA': 'STATE'}, inplace=True)"
   ]
  },
  {
   "cell_type": "markdown",
   "id": "4f0e6da4",
   "metadata": {},
   "source": [
    "Lets merge the two datasets."
   ]
  },
  {
   "cell_type": "code",
   "execution_count": 21,
   "id": "22699e9e",
   "metadata": {},
   "outputs": [
    {
     "data": {
      "text/html": [
       "<div>\n",
       "<style scoped>\n",
       "    .dataframe tbody tr th:only-of-type {\n",
       "        vertical-align: middle;\n",
       "    }\n",
       "\n",
       "    .dataframe tbody tr th {\n",
       "        vertical-align: top;\n",
       "    }\n",
       "\n",
       "    .dataframe thead th {\n",
       "        text-align: right;\n",
       "    }\n",
       "</style>\n",
       "<table border=\"1\" class=\"dataframe\">\n",
       "  <thead>\n",
       "    <tr style=\"text-align: right;\">\n",
       "      <th></th>\n",
       "      <th>STATE</th>\n",
       "      <th>YEAR</th>\n",
       "      <th>MONTH</th>\n",
       "      <th>TOTAL CIVILIAN NON-INSTITUTIONAL POPULATION IN STATE/AREA</th>\n",
       "      <th>TOTAL CIVILIAN LABOR FORCE IN STATE/AREA</th>\n",
       "      <th>PERCENT (%) OF STATE/AREA'S POPULATION</th>\n",
       "      <th>TOTAL EMPLOYMENT IN STATE/AREA</th>\n",
       "      <th>PERCENT (%) OF LABOR FORCE EMPLOYED IN STATE/AREA</th>\n",
       "      <th>TOTAL UNEMPLOYMENT IN STATE/AREA</th>\n",
       "      <th>PERCENT (%) OF LABOR FORCE UNEMPLOYED IN STATE/AREA</th>\n",
       "    </tr>\n",
       "  </thead>\n",
       "  <tbody>\n",
       "    <tr>\n",
       "      <th>22896</th>\n",
       "      <td>Alabama</td>\n",
       "      <td>2012</td>\n",
       "      <td>1</td>\n",
       "      <td>3,736,437</td>\n",
       "      <td>2,179,750</td>\n",
       "      <td>58.3</td>\n",
       "      <td>1,993,523</td>\n",
       "      <td>53.4</td>\n",
       "      <td>186,227</td>\n",
       "      <td>8.5</td>\n",
       "    </tr>\n",
       "    <tr>\n",
       "      <th>22897</th>\n",
       "      <td>Alaska</td>\n",
       "      <td>2012</td>\n",
       "      <td>1</td>\n",
       "      <td>532,472</td>\n",
       "      <td>365,200</td>\n",
       "      <td>68.6</td>\n",
       "      <td>337,946</td>\n",
       "      <td>63.5</td>\n",
       "      <td>27,254</td>\n",
       "      <td>7.5</td>\n",
       "    </tr>\n",
       "    <tr>\n",
       "      <th>22898</th>\n",
       "      <td>Arizona</td>\n",
       "      <td>2012</td>\n",
       "      <td>1</td>\n",
       "      <td>4,970,220</td>\n",
       "      <td>3,048,161</td>\n",
       "      <td>61.3</td>\n",
       "      <td>2,782,738</td>\n",
       "      <td>56.0</td>\n",
       "      <td>265,423</td>\n",
       "      <td>8.7</td>\n",
       "    </tr>\n",
       "  </tbody>\n",
       "</table>\n",
       "</div>"
      ],
      "text/plain": [
       "         STATE  YEAR  MONTH  \\\n",
       "22896  Alabama  2012      1   \n",
       "22897   Alaska  2012      1   \n",
       "22898  Arizona  2012      1   \n",
       "\n",
       "      TOTAL CIVILIAN NON-INSTITUTIONAL POPULATION IN STATE/AREA  \\\n",
       "22896                                       3,736,437             \n",
       "22897                                         532,472             \n",
       "22898                                       4,970,220             \n",
       "\n",
       "      TOTAL CIVILIAN LABOR FORCE IN STATE/AREA  \\\n",
       "22896                             2,179,750      \n",
       "22897                               365,200      \n",
       "22898                             3,048,161      \n",
       "\n",
       "       PERCENT (%) OF STATE/AREA'S POPULATION TOTAL EMPLOYMENT IN STATE/AREA  \\\n",
       "22896                                    58.3                   1,993,523      \n",
       "22897                                    68.6                     337,946      \n",
       "22898                                    61.3                   2,782,738      \n",
       "\n",
       "       PERCENT (%) OF LABOR FORCE EMPLOYED IN STATE/AREA  \\\n",
       "22896                                               53.4   \n",
       "22897                                               63.5   \n",
       "22898                                               56.0   \n",
       "\n",
       "      TOTAL UNEMPLOYMENT IN STATE/AREA  \\\n",
       "22896                       186,227      \n",
       "22897                        27,254      \n",
       "22898                       265,423      \n",
       "\n",
       "       PERCENT (%) OF LABOR FORCE UNEMPLOYED IN STATE/AREA  \n",
       "22896                                                8.5    \n",
       "22897                                                7.5    \n",
       "22898                                                8.7    "
      ]
     },
     "execution_count": 21,
     "metadata": {},
     "output_type": "execute_result"
    }
   ],
   "source": [
    "df_unemployment.head(3)"
   ]
  },
  {
   "cell_type": "code",
   "execution_count": 22,
   "id": "dbbae84a",
   "metadata": {},
   "outputs": [
    {
     "data": {
      "text/html": [
       "<div>\n",
       "<style scoped>\n",
       "    .dataframe tbody tr th:only-of-type {\n",
       "        vertical-align: middle;\n",
       "    }\n",
       "\n",
       "    .dataframe tbody tr th {\n",
       "        vertical-align: top;\n",
       "    }\n",
       "\n",
       "    .dataframe thead th {\n",
       "        text-align: right;\n",
       "    }\n",
       "</style>\n",
       "<table border=\"1\" class=\"dataframe\">\n",
       "  <thead>\n",
       "    <tr style=\"text-align: right;\">\n",
       "      <th></th>\n",
       "      <th>PERIOD_BEGIN</th>\n",
       "      <th>PERIOD_END</th>\n",
       "      <th>STATE</th>\n",
       "      <th>REGION</th>\n",
       "      <th>STATE_CODE</th>\n",
       "      <th>MEDIAN_SALE_PRICE</th>\n",
       "      <th>HOMES_SOLD</th>\n",
       "      <th>INVENTORY</th>\n",
       "      <th>MONTH</th>\n",
       "      <th>YEAR</th>\n",
       "    </tr>\n",
       "  </thead>\n",
       "  <tbody>\n",
       "    <tr>\n",
       "      <th>0</th>\n",
       "      <td>2022-08-01</td>\n",
       "      <td>2022-08-31</td>\n",
       "      <td>Georgia</td>\n",
       "      <td>South Region</td>\n",
       "      <td>GA</td>\n",
       "      <td>354700</td>\n",
       "      <td>13970</td>\n",
       "      <td>38874.0</td>\n",
       "      <td>8</td>\n",
       "      <td>2022</td>\n",
       "    </tr>\n",
       "    <tr>\n",
       "      <th>1</th>\n",
       "      <td>2014-07-01</td>\n",
       "      <td>2014-07-31</td>\n",
       "      <td>Wyoming</td>\n",
       "      <td>West Region</td>\n",
       "      <td>WY</td>\n",
       "      <td>168500</td>\n",
       "      <td>9</td>\n",
       "      <td>4.0</td>\n",
       "      <td>7</td>\n",
       "      <td>2014</td>\n",
       "    </tr>\n",
       "    <tr>\n",
       "      <th>2</th>\n",
       "      <td>2020-01-01</td>\n",
       "      <td>2020-01-31</td>\n",
       "      <td>Minnesota</td>\n",
       "      <td>Midwest Region</td>\n",
       "      <td>MN</td>\n",
       "      <td>258900</td>\n",
       "      <td>90</td>\n",
       "      <td>140.0</td>\n",
       "      <td>1</td>\n",
       "      <td>2020</td>\n",
       "    </tr>\n",
       "  </tbody>\n",
       "</table>\n",
       "</div>"
      ],
      "text/plain": [
       "  PERIOD_BEGIN PERIOD_END      STATE          REGION STATE_CODE  \\\n",
       "0   2022-08-01 2022-08-31    Georgia    South Region         GA   \n",
       "1   2014-07-01 2014-07-31    Wyoming     West Region         WY   \n",
       "2   2020-01-01 2020-01-31  Minnesota  Midwest Region         MN   \n",
       "\n",
       "   MEDIAN_SALE_PRICE  HOMES_SOLD  INVENTORY  MONTH  YEAR  \n",
       "0             354700       13970    38874.0      8  2022  \n",
       "1             168500           9        4.0      7  2014  \n",
       "2             258900          90      140.0      1  2020  "
      ]
     },
     "execution_count": 22,
     "metadata": {},
     "output_type": "execute_result"
    }
   ],
   "source": [
    "df_housingMkt.head(3)"
   ]
  },
  {
   "cell_type": "code",
   "execution_count": 23,
   "id": "ab7c1b91",
   "metadata": {},
   "outputs": [],
   "source": [
    "#Merge both dataset\n",
    "# Merge on State, Year, Month\n",
    "merged_df = pd.merge(df_housingMkt, df_unemployment, on=['STATE', 'YEAR', 'MONTH'], how='inner')"
   ]
  },
  {
   "cell_type": "code",
   "execution_count": 24,
   "id": "1cc39862",
   "metadata": {},
   "outputs": [
    {
     "data": {
      "text/html": [
       "<div>\n",
       "<style scoped>\n",
       "    .dataframe tbody tr th:only-of-type {\n",
       "        vertical-align: middle;\n",
       "    }\n",
       "\n",
       "    .dataframe tbody tr th {\n",
       "        vertical-align: top;\n",
       "    }\n",
       "\n",
       "    .dataframe thead th {\n",
       "        text-align: right;\n",
       "    }\n",
       "</style>\n",
       "<table border=\"1\" class=\"dataframe\">\n",
       "  <thead>\n",
       "    <tr style=\"text-align: right;\">\n",
       "      <th></th>\n",
       "      <th>PERIOD_BEGIN</th>\n",
       "      <th>PERIOD_END</th>\n",
       "      <th>STATE</th>\n",
       "      <th>REGION</th>\n",
       "      <th>STATE_CODE</th>\n",
       "      <th>MEDIAN_SALE_PRICE</th>\n",
       "      <th>HOMES_SOLD</th>\n",
       "      <th>INVENTORY</th>\n",
       "      <th>MONTH</th>\n",
       "      <th>YEAR</th>\n",
       "      <th>TOTAL CIVILIAN NON-INSTITUTIONAL POPULATION IN STATE/AREA</th>\n",
       "      <th>TOTAL CIVILIAN LABOR FORCE IN STATE/AREA</th>\n",
       "      <th>PERCENT (%) OF STATE/AREA'S POPULATION</th>\n",
       "      <th>TOTAL EMPLOYMENT IN STATE/AREA</th>\n",
       "      <th>PERCENT (%) OF LABOR FORCE EMPLOYED IN STATE/AREA</th>\n",
       "      <th>TOTAL UNEMPLOYMENT IN STATE/AREA</th>\n",
       "      <th>PERCENT (%) OF LABOR FORCE UNEMPLOYED IN STATE/AREA</th>\n",
       "    </tr>\n",
       "  </thead>\n",
       "  <tbody>\n",
       "    <tr>\n",
       "      <th>0</th>\n",
       "      <td>2022-08-01</td>\n",
       "      <td>2022-08-31</td>\n",
       "      <td>Georgia</td>\n",
       "      <td>South Region</td>\n",
       "      <td>GA</td>\n",
       "      <td>354700</td>\n",
       "      <td>13970</td>\n",
       "      <td>38874.0</td>\n",
       "      <td>8</td>\n",
       "      <td>2022</td>\n",
       "      <td>8,529,918</td>\n",
       "      <td>5,234,702</td>\n",
       "      <td>61.4</td>\n",
       "      <td>5,073,755</td>\n",
       "      <td>59.5</td>\n",
       "      <td>160,947</td>\n",
       "      <td>3.1</td>\n",
       "    </tr>\n",
       "    <tr>\n",
       "      <th>1</th>\n",
       "      <td>2022-08-01</td>\n",
       "      <td>2022-08-31</td>\n",
       "      <td>Georgia</td>\n",
       "      <td>South Region</td>\n",
       "      <td>GA</td>\n",
       "      <td>364600</td>\n",
       "      <td>12044</td>\n",
       "      <td>34156.0</td>\n",
       "      <td>8</td>\n",
       "      <td>2022</td>\n",
       "      <td>8,529,918</td>\n",
       "      <td>5,234,702</td>\n",
       "      <td>61.4</td>\n",
       "      <td>5,073,755</td>\n",
       "      <td>59.5</td>\n",
       "      <td>160,947</td>\n",
       "      <td>3.1</td>\n",
       "    </tr>\n",
       "    <tr>\n",
       "      <th>2</th>\n",
       "      <td>2022-08-01</td>\n",
       "      <td>2022-08-31</td>\n",
       "      <td>Georgia</td>\n",
       "      <td>South Region</td>\n",
       "      <td>GA</td>\n",
       "      <td>345300</td>\n",
       "      <td>1099</td>\n",
       "      <td>2571.0</td>\n",
       "      <td>8</td>\n",
       "      <td>2022</td>\n",
       "      <td>8,529,918</td>\n",
       "      <td>5,234,702</td>\n",
       "      <td>61.4</td>\n",
       "      <td>5,073,755</td>\n",
       "      <td>59.5</td>\n",
       "      <td>160,947</td>\n",
       "      <td>3.1</td>\n",
       "    </tr>\n",
       "  </tbody>\n",
       "</table>\n",
       "</div>"
      ],
      "text/plain": [
       "  PERIOD_BEGIN PERIOD_END    STATE        REGION STATE_CODE  \\\n",
       "0   2022-08-01 2022-08-31  Georgia  South Region         GA   \n",
       "1   2022-08-01 2022-08-31  Georgia  South Region         GA   \n",
       "2   2022-08-01 2022-08-31  Georgia  South Region         GA   \n",
       "\n",
       "   MEDIAN_SALE_PRICE  HOMES_SOLD  INVENTORY  MONTH  YEAR  \\\n",
       "0             354700       13970    38874.0      8  2022   \n",
       "1             364600       12044    34156.0      8  2022   \n",
       "2             345300        1099     2571.0      8  2022   \n",
       "\n",
       "  TOTAL CIVILIAN NON-INSTITUTIONAL POPULATION IN STATE/AREA  \\\n",
       "0                                       8,529,918             \n",
       "1                                       8,529,918             \n",
       "2                                       8,529,918             \n",
       "\n",
       "  TOTAL CIVILIAN LABOR FORCE IN STATE/AREA  \\\n",
       "0                             5,234,702      \n",
       "1                             5,234,702      \n",
       "2                             5,234,702      \n",
       "\n",
       "   PERCENT (%) OF STATE/AREA'S POPULATION TOTAL EMPLOYMENT IN STATE/AREA  \\\n",
       "0                                    61.4                   5,073,755      \n",
       "1                                    61.4                   5,073,755      \n",
       "2                                    61.4                   5,073,755      \n",
       "\n",
       "   PERCENT (%) OF LABOR FORCE EMPLOYED IN STATE/AREA  \\\n",
       "0                                               59.5   \n",
       "1                                               59.5   \n",
       "2                                               59.5   \n",
       "\n",
       "  TOTAL UNEMPLOYMENT IN STATE/AREA  \\\n",
       "0                       160,947      \n",
       "1                       160,947      \n",
       "2                       160,947      \n",
       "\n",
       "   PERCENT (%) OF LABOR FORCE UNEMPLOYED IN STATE/AREA  \n",
       "0                                                3.1    \n",
       "1                                                3.1    \n",
       "2                                                3.1    "
      ]
     },
     "execution_count": 24,
     "metadata": {},
     "output_type": "execute_result"
    }
   ],
   "source": [
    "merged_df.head(3)"
   ]
  },
  {
   "cell_type": "code",
   "execution_count": 59,
   "id": "a8701ede",
   "metadata": {},
   "outputs": [
    {
     "name": "stdout",
     "output_type": "stream",
     "text": [
      "Null values in each column:\n",
      " Unnamed: 0                                                   0\n",
      "PERIOD_BEGIN                                                 0\n",
      "PERIOD_END                                                   0\n",
      "STATE                                                        0\n",
      "REGION                                                       0\n",
      "STATE_CODE                                                   0\n",
      "MEDIAN_SALE_PRICE                                            0\n",
      "HOMES_SOLD                                                   0\n",
      "INVENTORY                                                    0\n",
      "MONTH                                                        0\n",
      "YEAR                                                         0\n",
      "TOTAL CIVILIAN NON-INSTITUTIONAL POPULATION IN STATE/AREA    0\n",
      "TOTAL CIVILIAN LABOR FORCE IN STATE/AREA                     0\n",
      "PERCENT (%) OF STATE/AREA'S POPULATION                       0\n",
      "TOTAL EMPLOYMENT IN STATE/AREA                               0\n",
      "PERCENT (%) OF LABOR FORCE EMPLOYED IN STATE/AREA            0\n",
      "TOTAL UNEMPLOYMENT IN STATE/AREA                             0\n",
      "PERCENT (%) OF LABOR FORCE UNEMPLOYED IN STATE/AREA          0\n",
      "dtype: int64\n"
     ]
    }
   ],
   "source": [
    "print(\"Null values in each column:\\n\", merged_df.isnull().sum())"
   ]
  },
  {
   "cell_type": "code",
   "execution_count": 26,
   "id": "d8dd2f56",
   "metadata": {},
   "outputs": [
    {
     "name": "stdout",
     "output_type": "stream",
     "text": [
      "Merged # of records:  31881\n"
     ]
    }
   ],
   "source": [
    "print(\"Merged # of records: \", merged_df.shape[0])"
   ]
  },
  {
   "cell_type": "code",
   "execution_count": 27,
   "id": "18ed9eb5",
   "metadata": {},
   "outputs": [
    {
     "name": "stdout",
     "output_type": "stream",
     "text": [
      "<class 'pandas.core.frame.DataFrame'>\n",
      "Int64Index: 31881 entries, 0 to 31880\n",
      "Data columns (total 17 columns):\n",
      " #   Column                                                     Non-Null Count  Dtype         \n",
      "---  ------                                                     --------------  -----         \n",
      " 0   PERIOD_BEGIN                                               31881 non-null  datetime64[ns]\n",
      " 1   PERIOD_END                                                 31881 non-null  datetime64[ns]\n",
      " 2   STATE                                                      31881 non-null  object        \n",
      " 3   REGION                                                     31881 non-null  object        \n",
      " 4   STATE_CODE                                                 31881 non-null  object        \n",
      " 5   MEDIAN_SALE_PRICE                                          31881 non-null  int64         \n",
      " 6   HOMES_SOLD                                                 31881 non-null  int64         \n",
      " 7   INVENTORY                                                  31805 non-null  float64       \n",
      " 8   MONTH                                                      31881 non-null  int64         \n",
      " 9   YEAR                                                       31881 non-null  int64         \n",
      " 10  TOTAL CIVILIAN NON-INSTITUTIONAL POPULATION IN STATE/AREA  31881 non-null  object        \n",
      " 11  TOTAL CIVILIAN LABOR FORCE IN STATE/AREA                   31881 non-null  object        \n",
      " 12  PERCENT (%) OF STATE/AREA'S POPULATION                     31881 non-null  float64       \n",
      " 13  TOTAL EMPLOYMENT IN STATE/AREA                             31881 non-null  object        \n",
      " 14  PERCENT (%) OF LABOR FORCE EMPLOYED IN STATE/AREA          31881 non-null  float64       \n",
      " 15  TOTAL UNEMPLOYMENT IN STATE/AREA                           31881 non-null  object        \n",
      " 16  PERCENT (%) OF LABOR FORCE UNEMPLOYED IN STATE/AREA        31881 non-null  float64       \n",
      "dtypes: datetime64[ns](2), float64(4), int64(4), object(7)\n",
      "memory usage: 4.4+ MB\n"
     ]
    }
   ],
   "source": [
    "merged_df.info()"
   ]
  },
  {
   "cell_type": "code",
   "execution_count": 61,
   "id": "183a7773",
   "metadata": {},
   "outputs": [],
   "source": [
    "merged_df.to_excel(\"mergedUnemploymentxHousing_US.xlsx\")"
   ]
  },
  {
   "cell_type": "code",
   "execution_count": null,
   "id": "399d9613",
   "metadata": {},
   "outputs": [],
   "source": [
    "merged_df = merged_df.dropna(subset=['INVENTORY'])"
   ]
  },
  {
   "cell_type": "markdown",
   "id": "67c9c18c",
   "metadata": {},
   "source": [
    "Data Visualizations"
   ]
  },
  {
   "cell_type": "code",
   "execution_count": 58,
   "id": "c584c639",
   "metadata": {},
   "outputs": [
    {
     "data": {
      "image/png": "[encoded data removed]",
      "text/plain": [
       "<Figure size 1200x600 with 2 Axes>"
      ]
     },
     "metadata": {},
     "output_type": "display_data"
    }
   ],
   "source": [
    "import matplotlib.pyplot as plt\n",
    "import matplotlib.ticker as ticker\n",
    "\n",
    "# Group and average\n",
    "df_merged_grouped = merged_df.groupby('PERIOD_BEGIN').agg({\n",
    "    'PERCENT (%) OF LABOR FORCE UNEMPLOYED IN STATE/AREA': 'mean',\n",
    "    'MEDIAN_SALE_PRICE': 'mean'\n",
    "}).reset_index()\n",
    "\n",
    "# Plot the chart\n",
    "fig, ax1 = plt.subplots(figsize=(12, 6))\n",
    "\n",
    "# Unemployment rate (left Y-axis)\n",
    "ax1.set_xlabel('Year')\n",
    "ax1.set_ylabel('Unemployment Rate (%)', color='tab:blue')\n",
    "ax1.plot(df_merged_grouped['PERIOD_BEGIN'], df_merged_grouped['PERCENT (%) OF LABOR FORCE UNEMPLOYED IN STATE/AREA'],\n",
    "         color='tab:blue')\n",
    "ax1.tick_params(axis='y', labelcolor='tab:blue')\n",
    "\n",
    "# Median sale price (right Y-axis)\n",
    "ax2 = ax1.twinx()\n",
    "ax2.set_ylabel('Median Sale Price ($)', color='tab:orange')\n",
    "ax2.plot(df_merged_grouped['PERIOD_BEGIN'], df_merged_grouped['MEDIAN_SALE_PRICE'], color='tab:orange')\n",
    "# Format y-axis for median sale price to show in 'K' (thousands)\n",
    "ax2.yaxis.set_major_formatter(ticker.FuncFormatter(lambda x, _: f'{x/1000:.0f}K'))\n",
    "ax2.tick_params(axis='y', labelcolor='tab:orange')\n",
    "\n",
    "plt.title('Unemployment Rate vs. Median Sale Price Over Time')\n",
    "plt.grid(True)\n",
    "plt.tight_layout()\n",
    "plt.show()\n",
    "\n"
   ]
  },
  {
   "cell_type": "code",
   "execution_count": 57,
   "id": "1468a680",
   "metadata": {},
   "outputs": [
    {
     "data": {
      "image/png": "[encoded data removed]",
      "text/plain": [
       "<Figure size 1200x600 with 2 Axes>"
      ]
     },
     "metadata": {},
     "output_type": "display_data"
    }
   ],
   "source": [
    "merged_df = merged_df.dropna(subset=['INVENTORY'])\n",
    "df_merged_grouped = merged_df.groupby('PERIOD_BEGIN').agg({\n",
    "    'INVENTORY': 'mean',\n",
    "    'MEDIAN_SALE_PRICE': 'mean'\n",
    "}).reset_index()\n",
    "\n",
    "# Plot the chart\n",
    "fig, ax1 = plt.subplots(figsize=(12, 6))\n",
    "\n",
    "# Unemployment rate (left Y-axis)\n",
    "ax1.set_xlabel('Year')\n",
    "ax1.set_ylabel('Inventory Units', color='tab:blue')\n",
    "ax1.plot(df_merged_grouped['PERIOD_BEGIN'], df_merged_grouped['INVENTORY'],\n",
    "         color='tab:blue')\n",
    "ax1.tick_params(axis='y', labelcolor='tab:blue')\n",
    "\n",
    "# Median sale price (right Y-axis)\n",
    "ax2 = ax1.twinx()\n",
    "ax2.set_ylabel('Median Sale Price ($)', color='tab:orange')\n",
    "ax2.plot(df_merged_grouped['PERIOD_BEGIN'], df_merged_grouped['MEDIAN_SALE_PRICE'], color='tab:orange')\n",
    "# Format y-axis for median sale price to show in 'K' (thousands)\n",
    "ax2.yaxis.set_major_formatter(ticker.FuncFormatter(lambda x, _: f'{x/1000:.0f}K'))\n",
    "ax2.tick_params(axis='y', labelcolor='tab:orange')\n",
    "\n",
    "plt.title('Inventory Units vs. Median Sale Price Over Time')\n",
    "plt.grid(True)\n",
    "plt.tight_layout()\n",
    "plt.show()"
   ]
  },
  {
   "cell_type": "markdown",
   "id": "066e7be0",
   "metadata": {},
   "source": [
    "A dual-axis line chart was used to compare the average unemployment rate and median home sale price over time. The chart shows that unemployment steadily declined from 2012 to 2020, while home prices increased consistently. In 2020, unemployment shows a spike which is possible due to COVID-19 meanwhile home prices continued to rise. This correlation analysis suggests that housing demand remained strong, possibly driven by low interest rates, remote work migration, and/or supply shortages."
   ]
  },
  {
   "cell_type": "code",
   "execution_count": 31,
   "id": "16b7e533",
   "metadata": {},
   "outputs": [
    {
     "name": "stdout",
     "output_type": "stream",
     "text": [
      "Skewness of MEDIAN_SALE_PRICE: 2.78\n",
      "Highly right-skewed\n"
     ]
    },
    {
     "data": {
      "image/png": "[encoded data removed]",
      "text/plain": [
       "<Figure size 800x400 with 1 Axes>"
      ]
     },
     "metadata": {},
     "output_type": "display_data"
    }
   ],
   "source": [
    "from scipy.stats import skew\n",
    "\n",
    "# Drop missing values\n",
    "df_medianSalePrice = merged_df['MEDIAN_SALE_PRICE'].dropna()\n",
    "\n",
    "# Calculate skewness\n",
    "skewness_value = skew(df_medianSalePrice)\n",
    "print(f\"Skewness of MEDIAN_SALE_PRICE: {skewness_value:.2f}\")\n",
    "\n",
    "# Interpret skewness\n",
    "if skewness_value > 1:\n",
    "    print(\"Highly right-skewed\")\n",
    "elif skewness_value > 0.5:\n",
    "    print(\"Moderately right-skewed\")\n",
    "elif skewness_value < -1:\n",
    "    print(\"Highly left-skewed\")\n",
    "elif skewness_value < -0.5:\n",
    "    print(\"Moderately left-skewed\")\n",
    "else:\n",
    "    print(\"Approximately symmetric\")\n",
    "\n",
    "# Plot histogram\n",
    "plt.figure(figsize=(8, 4))\n",
    "plt.hist(df_medianSalePrice, bins=30, color='skyblue', edgecolor='black')\n",
    "plt.title(f'Distribution of MEDIAN_SALE_PRICE\\nSkewness: {skewness_value:.2f}')\n",
    "plt.xlabel('MEDIAN_SALE_PRICE')\n",
    "plt.ylabel('Frequency')\n",
    "plt.grid(True)\n",
    "plt.tight_layout()\n",
    "plt.show()\n"
   ]
  },
  {
   "cell_type": "code",
   "execution_count": 32,
   "id": "0de038f3",
   "metadata": {},
   "outputs": [
    {
     "name": "stdout",
     "output_type": "stream",
     "text": [
      "Skewness of PERCENT (%) OF LABOR FORCE UNEMPLOYED IN STATE/AREA: 1.99\n",
      "Highly right-skewed\n"
     ]
    },
    {
     "data": {
      "image/png": "[encoded data removed]",
      "text/plain": [
       "<Figure size 800x400 with 1 Axes>"
      ]
     },
     "metadata": {},
     "output_type": "display_data"
    }
   ],
   "source": [
    "\n",
    "# Drop missing values\n",
    "df_medianUnemployment = merged_df['PERCENT (%) OF LABOR FORCE UNEMPLOYED IN STATE/AREA'].dropna()\n",
    "\n",
    "# Calculate skewness\n",
    "skewness_value = skew(df_medianUnemployment)\n",
    "print(f\"Skewness of PERCENT (%) OF LABOR FORCE UNEMPLOYED IN STATE/AREA: {skewness_value:.2f}\")\n",
    "\n",
    "# Interpret skewness\n",
    "if skewness_value > 1:\n",
    "    print(\"Highly right-skewed\")\n",
    "elif skewness_value > 0.5:\n",
    "    print(\"Moderately right-skewed\")\n",
    "elif skewness_value < -1:\n",
    "    print(\"Highly left-skewed\")\n",
    "elif skewness_value < -0.5:\n",
    "    print(\"Moderately left-skewed\")\n",
    "else:\n",
    "    print(\"Approximately symmetric\")\n",
    "\n",
    "# Plot histogram\n",
    "plt.figure(figsize=(8, 4))\n",
    "plt.hist(df_medianUnemployment, bins=30, color='skyblue', edgecolor='black')\n",
    "plt.title(f'Distribution of PERCENT (%) OF LABOR FORCE UNEMPLOYED IN STATE/AREA\\nSkewness: {skewness_value:.2f}')\n",
    "plt.xlabel('PERCENT (%) OF LABOR FORCE UNEMPLOYED IN STATE/AREA')\n",
    "plt.ylabel('Frequency')\n",
    "plt.grid(True)\n",
    "plt.tight_layout()\n",
    "plt.show()"
   ]
  },
  {
   "cell_type": "markdown",
   "id": "359ce831",
   "metadata": {},
   "source": [
    "Both unemployment rate and median sale price are highly right-skewed, with most areas showing low unemployment and affordable housing, while outliers drive the distributions as with seen with long right tails in both graphs. This suggests that economic stability does not always equate to affordable housing,thereore, other factors like high-value properties, income inequality, and low housing inventory for sale might influence sale prices."
   ]
  },
  {
   "cell_type": "code",
   "execution_count": 33,
   "id": "8bb98bf2",
   "metadata": {},
   "outputs": [
    {
     "name": "stdout",
     "output_type": "stream",
     "text": [
      "Top 10 States by Average Median Sale Price:\n",
      "STATE\n",
      "Hawaii           603821.111111\n",
      "California       547786.969697\n",
      "Colorado         402238.636364\n",
      "Massachusetts    396712.121212\n",
      "Washington       389915.303030\n",
      "New York         371267.727273\n",
      "Wyoming          351020.751342\n",
      "Oregon           314822.727273\n",
      "Utah             307365.606061\n",
      "Montana          305059.208262\n",
      "Name: MEDIAN_SALE_PRICE, dtype: float64\n"
     ]
    }
   ],
   "source": [
    "# Group by state and calculate average median sale price\n",
    "top_states = merged_df.groupby('STATE')['MEDIAN_SALE_PRICE'].mean().sort_values(ascending=False).head(10)\n",
    "\n",
    "# Display the result\n",
    "print(\"Top 10 States by Average Median Sale Price:\")\n",
    "print(top_states)\n"
   ]
  },
  {
   "cell_type": "code",
   "execution_count": 34,
   "id": "89cd507b",
   "metadata": {},
   "outputs": [
    {
     "name": "stdout",
     "output_type": "stream",
     "text": [
      "Top 10 States by PERCENT (%) OF LABOR FORCE UNEMPLOYED IN STATE/AREA:\n",
      "STATE\n",
      "Nevada          7.442424\n",
      "California      6.706061\n",
      "Alaska          6.433333\n",
      "Illinois        6.404545\n",
      "Mississippi     6.400304\n",
      "Rhode Island    6.233955\n",
      "New Mexico      6.210703\n",
      "Michigan        6.155957\n",
      "New Jersey      6.077273\n",
      "New York        6.046970\n",
      "Name: PERCENT (%) OF LABOR FORCE UNEMPLOYED IN STATE/AREA, dtype: float64\n"
     ]
    }
   ],
   "source": [
    "# Group by state and calculate average unemployement in states\n",
    "top_unemployement = merged_df.groupby('STATE')['PERCENT (%) OF LABOR FORCE UNEMPLOYED IN STATE/AREA'].mean().sort_values(ascending=False).head(10)\n",
    "\n",
    "# Display the result\n",
    "print(\"Top 10 States by PERCENT (%) OF LABOR FORCE UNEMPLOYED IN STATE/AREA:\")\n",
    "print(top_unemployement)"
   ]
  },
  {
   "cell_type": "markdown",
   "id": "178c2dd9",
   "metadata": {},
   "source": [
    "The data shows a weak correlation between unemployment and housing prices. Hawaii has the highest median sale price at $603,821 and is not listed for high unemployment meanwhile California has an average median sale price of $547,786 and an unemployment rate of 6.71%. Therefore, this suggests that areas with high unemployment such as Nevada (7.44%) and California can still experience high housing demand driven by factors such as technology industry or tourism. Furthermore, States with high unemployment such as Mississippi (6.40%) and New Mexico (6.21%) may face economic challenges impacting the housing market. Conversely, Utah (3.60%) shows a more balanced relationship between unemployment and home prices."
   ]
  },
  {
   "cell_type": "code",
   "execution_count": 35,
   "id": "0a3992fa",
   "metadata": {},
   "outputs": [
    {
     "data": {
      "image/png": "[encoded data removed]",
      "text/plain": [
       "<Figure size 1400x600 with 1 Axes>"
      ]
     },
     "metadata": {},
     "output_type": "display_data"
    }
   ],
   "source": [
    "import seaborn as sns\n",
    "\n",
    "top_states = merged_df.groupby('STATE')['MEDIAN_SALE_PRICE'].mean().sort_values(ascending=False).head(10).index\n",
    "df_top = merged_df[merged_df['STATE'].isin(top_states)]\n",
    "\n",
    "# Create boxplot\n",
    "plt.figure(figsize=(14, 6))\n",
    "sns.boxplot(data=df_top, x='STATE', y='MEDIAN_SALE_PRICE')\n",
    "plt.title('Box and Whisker Plot of Median Sale Prices by State')\n",
    "plt.ylabel('Median Sale Price ($)')\n",
    "plt.xlabel('State')\n",
    "plt.xticks(rotation=45)\n",
    "plt.tight_layout()\n",
    "plt.grid(True)\n",
    "plt.show()\n"
   ]
  },
  {
   "cell_type": "markdown",
   "id": "83bc369e",
   "metadata": {},
   "source": [
    "The box plot reveals that while most states have a central cluster of home prices within a certain range, a few states such as Hawaii with a median price of $603,821 and California with $547,786 are heavily influenced by luxury properties in which drives up the overall local housing prices. In contrast, states such as Wyoming ($350,000) and Montana ($350,000) have more consistent lower prices, thus, suggesting a less competitive market. Additionally, States such as Colorado ($402,283) and Massachusetts ($396,711) show significant variability in home prices with outliers reaching up to $1.5 million or more in sale prices highlighting the disparities in medianhome prices due to factors like location, economic conditions, and demand."
   ]
  },
  {
   "cell_type": "code",
   "execution_count": 36,
   "id": "5e9195b8",
   "metadata": {},
   "outputs": [
    {
     "data": {
      "application/vnd.plotly.v1+json": {
       "config": {
        "plotlyServerURL": "https://plot.ly"
       },
       "data": [
        {
         "coloraxis": "coloraxis",
         "geo": "geo",
         "hovertemplate": "STATE_CODE=%{location}<br>Avg Home Price=%{z}<extra></extra>",
         "locationmode": "USA-states",
         "locations": [
          "AK",
          "AL",
          "AR",
          "AZ",
          "CA",
          "CO",
          "CT",
          "DE",
          "FL",
          "GA",
          "HI",
          "IA",
          "ID",
          "IL",
          "IN",
          "KS",
          "KY",
          "LA",
          "MA",
          "MD",
          "ME",
          "MI",
          "MN",
          "MO",
          "MS",
          "MT",
          "NC",
          "ND",
          "NE",
          "NH",
          "NJ",
          "NM",
          "NV",
          "NY",
          "OH",
          "OK",
          "OR",
          "PA",
          "RI",
          "SC",
          "SD",
          "TN",
          "TX",
          "UT",
          "VA",
          "VT",
          "WA",
          "WI",
          "WV",
          "WY"
         ],
         "name": "",
         "type": "choropleth",
         "z": [
          281125,
          186341.1214953271,
          157110.55900621117,
          229792.57575757575,
          547786.9696969697,
          402238.63636363635,
          223956.33270321361,
          186520.51671732523,
          221248.33333333334,
          206803.9393939394,
          603821.1111111111,
          170295.23076923078,
          275708.9393939394,
          203171.81818181818,
          143445.30303030304,
          161520,
          155176.9696969697,
          183714.2640364188,
          396712.1212121212,
          245339.69696969696,
          232220.24221453286,
          145490.07220216608,
          216772.87878787878,
          152604.39393939395,
          144821.88449848024,
          305059.2082616179,
          210226.66666666666,
          217376.90721649484,
          173444.54545454544,
          246624.65753424657,
          296106.8181818182,
          248676.99680511182,
          236319.69696969696,
          371267.7272727273,
          151286.81818181818,
          143649.69696969696,
          314822.7272727273,
          183841.0606060606,
          255767.16417910447,
          218587.57575757575,
          182939.90825688074,
          200192.82442748093,
          224859.69696969696,
          307365.6060606061,
          289088.7878787879,
          241759.6923076923,
          389915.30303030304,
          167759.8784194529,
          150678.3606557377,
          351020.7513416816
         ]
        }
       ],
       "layout": {
        "coloraxis": {
         "colorbar": {
          "title": {
           "text": "Avg Home Price"
          }
         },
         "colorscale": [
          [
           0,
           "#0d0887"
          ],
          [
           0.1111111111111111,
           "#46039f"
          ],
          [
           0.2222222222222222,
           "#7201a8"
          ],
          [
           0.3333333333333333,
           "#9c179e"
          ],
          [
           0.4444444444444444,
           "#bd3786"
          ],
          [
           0.5555555555555556,
           "#d8576b"
          ],
          [
           0.6666666666666666,
           "#ed7953"
          ],
          [
           0.7777777777777778,
           "#fb9f3a"
          ],
          [
           0.8888888888888888,
           "#fdca26"
          ],
          [
           1,
           "#f0f921"
          ]
         ]
        },
        "geo": {
         "center": {},
         "domain": {
          "x": [
           0,
           1
          ],
          "y": [
           0,
           1
          ]
         },
         "scope": "usa"
        },
        "legend": {
         "tracegroupgap": 0
        },
        "template": {
         "data": {
          "bar": [
           {
            "error_x": {
             "color": "#2a3f5f"
            },
            "error_y": {
             "color": "#2a3f5f"
            },
            "marker": {
             "line": {
              "color": "#E5ECF6",
              "width": 0.5
             },
             "pattern": {
              "fillmode": "overlay",
              "size": 10,
              "solidity": 0.2
             }
            },
            "type": "bar"
           }
          ],
          "barpolar": [
           {
            "marker": {
             "line": {
              "color": "#E5ECF6",
              "width": 0.5
             },
             "pattern": {
              "fillmode": "overlay",
              "size": 10,
              "solidity": 0.2
             }
            },
            "type": "barpolar"
           }
          ],
          "carpet": [
           {
            "aaxis": {
             "endlinecolor": "#2a3f5f",
             "gridcolor": "white",
             "linecolor": "white",
             "minorgridcolor": "white",
             "startlinecolor": "#2a3f5f"
            },
            "baxis": {
             "endlinecolor": "#2a3f5f",
             "gridcolor": "white",
             "linecolor": "white",
             "minorgridcolor": "white",
             "startlinecolor": "#2a3f5f"
            },
            "type": "carpet"
           }
          ],
          "choropleth": [
           {
            "colorbar": {
             "outlinewidth": 0,
             "ticks": ""
            },
            "type": "choropleth"
           }
          ],
          "contour": [
           {
            "colorbar": {
             "outlinewidth": 0,
             "ticks": ""
            },
            "colorscale": [
             [
              0,
              "#0d0887"
             ],
             [
              0.1111111111111111,
              "#46039f"
             ],
             [
              0.2222222222222222,
              "#7201a8"
             ],
             [
              0.3333333333333333,
              "#9c179e"
             ],
             [
              0.4444444444444444,
              "#bd3786"
             ],
             [
              0.5555555555555556,
              "#d8576b"
             ],
             [
              0.6666666666666666,
              "#ed7953"
             ],
             [
              0.7777777777777778,
              "#fb9f3a"
             ],
             [
              0.8888888888888888,
              "#fdca26"
             ],
             [
              1,
              "#f0f921"
             ]
            ],
            "type": "contour"
           }
          ],
          "contourcarpet": [
           {
            "colorbar": {
             "outlinewidth": 0,
             "ticks": ""
            },
            "type": "contourcarpet"
           }
          ],
          "heatmap": [
           {
            "colorbar": {
             "outlinewidth": 0,
             "ticks": ""
            },
            "colorscale": [
             [
              0,
              "#0d0887"
             ],
             [
              0.1111111111111111,
              "#46039f"
             ],
             [
              0.2222222222222222,
              "#7201a8"
             ],
             [
              0.3333333333333333,
              "#9c179e"
             ],
             [
              0.4444444444444444,
              "#bd3786"
             ],
             [
              0.5555555555555556,
              "#d8576b"
             ],
             [
              0.6666666666666666,
              "#ed7953"
             ],
             [
              0.7777777777777778,
              "#fb9f3a"
             ],
             [
              0.8888888888888888,
              "#fdca26"
             ],
             [
              1,
              "#f0f921"
             ]
            ],
            "type": "heatmap"
           }
          ],
          "heatmapgl": [
           {
            "colorbar": {
             "outlinewidth": 0,
             "ticks": ""
            },
            "colorscale": [
             [
              0,
              "#0d0887"
             ],
             [
              0.1111111111111111,
              "#46039f"
             ],
             [
              0.2222222222222222,
              "#7201a8"
             ],
             [
              0.3333333333333333,
              "#9c179e"
             ],
             [
              0.4444444444444444,
              "#bd3786"
             ],
             [
              0.5555555555555556,
              "#d8576b"
             ],
             [
              0.6666666666666666,
              "#ed7953"
             ],
             [
              0.7777777777777778,
              "#fb9f3a"
             ],
             [
              0.8888888888888888,
              "#fdca26"
             ],
             [
              1,
              "#f0f921"
             ]
            ],
            "type": "heatmapgl"
           }
          ],
          "histogram": [
           {
            "marker": {
             "pattern": {
              "fillmode": "overlay",
              "size": 10,
              "solidity": 0.2
             }
            },
            "type": "histogram"
           }
          ],
          "histogram2d": [
           {
            "colorbar": {
             "outlinewidth": 0,
             "ticks": ""
            },
            "colorscale": [
             [
              0,
              "#0d0887"
             ],
             [
              0.1111111111111111,
              "#46039f"
             ],
             [
              0.2222222222222222,
              "#7201a8"
             ],
             [
              0.3333333333333333,
              "#9c179e"
             ],
             [
              0.4444444444444444,
              "#bd3786"
             ],
             [
              0.5555555555555556,
              "#d8576b"
             ],
             [
              0.6666666666666666,
              "#ed7953"
             ],
             [
              0.7777777777777778,
              "#fb9f3a"
             ],
             [
              0.8888888888888888,
              "#fdca26"
             ],
             [
              1,
              "#f0f921"
             ]
            ],
            "type": "histogram2d"
           }
          ],
          "histogram2dcontour": [
           {
            "colorbar": {
             "outlinewidth": 0,
             "ticks": ""
            },
            "colorscale": [
             [
              0,
              "#0d0887"
             ],
             [
              0.1111111111111111,
              "#46039f"
             ],
             [
              0.2222222222222222,
              "#7201a8"
             ],
             [
              0.3333333333333333,
              "#9c179e"
             ],
             [
              0.4444444444444444,
              "#bd3786"
             ],
             [
              0.5555555555555556,
              "#d8576b"
             ],
             [
              0.6666666666666666,
              "#ed7953"
             ],
             [
              0.7777777777777778,
              "#fb9f3a"
             ],
             [
              0.8888888888888888,
              "#fdca26"
             ],
             [
              1,
              "#f0f921"
             ]
            ],
            "type": "histogram2dcontour"
           }
          ],
          "mesh3d": [
           {
            "colorbar": {
             "outlinewidth": 0,
             "ticks": ""
            },
            "type": "mesh3d"
           }
          ],
          "parcoords": [
           {
            "line": {
             "colorbar": {
              "outlinewidth": 0,
              "ticks": ""
             }
            },
            "type": "parcoords"
           }
          ],
          "pie": [
           {
            "automargin": true,
            "type": "pie"
           }
          ],
          "scatter": [
           {
            "fillpattern": {
             "fillmode": "overlay",
             "size": 10,
             "solidity": 0.2
            },
            "type": "scatter"
           }
          ],
          "scatter3d": [
           {
            "line": {
             "colorbar": {
              "outlinewidth": 0,
              "ticks": ""
             }
            },
            "marker": {
             "colorbar": {
              "outlinewidth": 0,
              "ticks": ""
             }
            },
            "type": "scatter3d"
           }
          ],
          "scattercarpet": [
           {
            "marker": {
             "colorbar": {
              "outlinewidth": 0,
              "ticks": ""
             }
            },
            "type": "scattercarpet"
           }
          ],
          "scattergeo": [
           {
            "marker": {
             "colorbar": {
              "outlinewidth": 0,
              "ticks": ""
             }
            },
            "type": "scattergeo"
           }
          ],
          "scattergl": [
           {
            "marker": {
             "colorbar": {
              "outlinewidth": 0,
              "ticks": ""
             }
            },
            "type": "scattergl"
           }
          ],
          "scattermapbox": [
           {
            "marker": {
             "colorbar": {
              "outlinewidth": 0,
              "ticks": ""
             }
            },
            "type": "scattermapbox"
           }
          ],
          "scatterpolar": [
           {
            "marker": {
             "colorbar": {
              "outlinewidth": 0,
              "ticks": ""
             }
            },
            "type": "scatterpolar"
           }
          ],
          "scatterpolargl": [
           {
            "marker": {
             "colorbar": {
              "outlinewidth": 0,
              "ticks": ""
             }
            },
            "type": "scatterpolargl"
           }
          ],
          "scatterternary": [
           {
            "marker": {
             "colorbar": {
              "outlinewidth": 0,
              "ticks": ""
             }
            },
            "type": "scatterternary"
           }
          ],
          "surface": [
           {
            "colorbar": {
             "outlinewidth": 0,
             "ticks": ""
            },
            "colorscale": [
             [
              0,
              "#0d0887"
             ],
             [
              0.1111111111111111,
              "#46039f"
             ],
             [
              0.2222222222222222,
              "#7201a8"
             ],
             [
              0.3333333333333333,
              "#9c179e"
             ],
             [
              0.4444444444444444,
              "#bd3786"
             ],
             [
              0.5555555555555556,
              "#d8576b"
             ],
             [
              0.6666666666666666,
              "#ed7953"
             ],
             [
              0.7777777777777778,
              "#fb9f3a"
             ],
             [
              0.8888888888888888,
              "#fdca26"
             ],
             [
              1,
              "#f0f921"
             ]
            ],
            "type": "surface"
           }
          ],
          "table": [
           {
            "cells": {
             "fill": {
              "color": "#EBF0F8"
             },
             "line": {
              "color": "white"
             }
            },
            "header": {
             "fill": {
              "color": "#C8D4E3"
             },
             "line": {
              "color": "white"
             }
            },
            "type": "table"
           }
          ]
         },
         "layout": {
          "annotationdefaults": {
           "arrowcolor": "#2a3f5f",
           "arrowhead": 0,
           "arrowwidth": 1
          },
          "autotypenumbers": "strict",
          "coloraxis": {
           "colorbar": {
            "outlinewidth": 0,
            "ticks": ""
           }
          },
          "colorscale": {
           "diverging": [
            [
             0,
             "#8e0152"
            ],
            [
             0.1,
             "#c51b7d"
            ],
            [
             0.2,
             "#de77ae"
            ],
            [
             0.3,
             "#f1b6da"
            ],
            [
             0.4,
             "#fde0ef"
            ],
            [
             0.5,
             "#f7f7f7"
            ],
            [
             0.6,
             "#e6f5d0"
            ],
            [
             0.7,
             "#b8e186"
            ],
            [
             0.8,
             "#7fbc41"
            ],
            [
             0.9,
             "#4d9221"
            ],
            [
             1,
             "#276419"
            ]
           ],
           "sequential": [
            [
             0,
             "#0d0887"
            ],
            [
             0.1111111111111111,
             "#46039f"
            ],
            [
             0.2222222222222222,
             "#7201a8"
            ],
            [
             0.3333333333333333,
             "#9c179e"
            ],
            [
             0.4444444444444444,
             "#bd3786"
            ],
            [
             0.5555555555555556,
             "#d8576b"
            ],
            [
             0.6666666666666666,
             "#ed7953"
            ],
            [
             0.7777777777777778,
             "#fb9f3a"
            ],
            [
             0.8888888888888888,
             "#fdca26"
            ],
            [
             1,
             "#f0f921"
            ]
           ],
           "sequentialminus": [
            [
             0,
             "#0d0887"
            ],
            [
             0.1111111111111111,
             "#46039f"
            ],
            [
             0.2222222222222222,
             "#7201a8"
            ],
            [
             0.3333333333333333,
             "#9c179e"
            ],
            [
             0.4444444444444444,
             "#bd3786"
            ],
            [
             0.5555555555555556,
             "#d8576b"
            ],
            [
             0.6666666666666666,
             "#ed7953"
            ],
            [
             0.7777777777777778,
             "#fb9f3a"
            ],
            [
             0.8888888888888888,
             "#fdca26"
            ],
            [
             1,
             "#f0f921"
            ]
           ]
          },
          "colorway": [
           "#636efa",
           "#EF553B",
           "#00cc96",
           "#ab63fa",
           "#FFA15A",
           "#19d3f3",
           "#FF6692",
           "#B6E880",
           "#FF97FF",
           "#FECB52"
          ],
          "font": {
           "color": "#2a3f5f"
          },
          "geo": {
           "bgcolor": "white",
           "lakecolor": "white",
           "landcolor": "#E5ECF6",
           "showlakes": true,
           "showland": true,
           "subunitcolor": "white"
          },
          "hoverlabel": {
           "align": "left"
          },
          "hovermode": "closest",
          "mapbox": {
           "style": "light"
          },
          "paper_bgcolor": "white",
          "plot_bgcolor": "#E5ECF6",
          "polar": {
           "angularaxis": {
            "gridcolor": "white",
            "linecolor": "white",
            "ticks": ""
           },
           "bgcolor": "#E5ECF6",
           "radialaxis": {
            "gridcolor": "white",
            "linecolor": "white",
            "ticks": ""
           }
          },
          "scene": {
           "xaxis": {
            "backgroundcolor": "#E5ECF6",
            "gridcolor": "white",
            "gridwidth": 2,
            "linecolor": "white",
            "showbackground": true,
            "ticks": "",
            "zerolinecolor": "white"
           },
           "yaxis": {
            "backgroundcolor": "#E5ECF6",
            "gridcolor": "white",
            "gridwidth": 2,
            "linecolor": "white",
            "showbackground": true,
            "ticks": "",
            "zerolinecolor": "white"
           },
           "zaxis": {
            "backgroundcolor": "#E5ECF6",
            "gridcolor": "white",
            "gridwidth": 2,
            "linecolor": "white",
            "showbackground": true,
            "ticks": "",
            "zerolinecolor": "white"
           }
          },
          "shapedefaults": {
           "line": {
            "color": "#2a3f5f"
           }
          },
          "ternary": {
           "aaxis": {
            "gridcolor": "white",
            "linecolor": "white",
            "ticks": ""
           },
           "baxis": {
            "gridcolor": "white",
            "linecolor": "white",
            "ticks": ""
           },
           "bgcolor": "#E5ECF6",
           "caxis": {
            "gridcolor": "white",
            "linecolor": "white",
            "ticks": ""
           }
          },
          "title": {
           "x": 0.05
          },
          "xaxis": {
           "automargin": true,
           "gridcolor": "white",
           "linecolor": "white",
           "ticks": "",
           "title": {
            "standoff": 15
           },
           "zerolinecolor": "white",
           "zerolinewidth": 2
          },
          "yaxis": {
           "automargin": true,
           "gridcolor": "white",
           "linecolor": "white",
           "ticks": "",
           "title": {
            "standoff": 15
           },
           "zerolinecolor": "white",
           "zerolinewidth": 2
          }
         }
        },
        "title": {
         "text": "Average Median Home Sale Price by U.S. State"
        }
       }
      }
     },
     "metadata": {},
     "output_type": "display_data"
    }
   ],
   "source": [
    "import plotly.express as px\n",
    "\n",
    "# Group by state abbreviation and calculate average home price\n",
    "state_prices = merged_df.groupby('STATE_CODE', as_index=False)['MEDIAN_SALE_PRICE'].mean()\n",
    "\n",
    "# Generate choropleth map\n",
    "fig = px.choropleth(\n",
    "    state_prices,\n",
    "    locations='STATE_CODE',\n",
    "    locationmode='USA-states',\n",
    "    color='MEDIAN_SALE_PRICE',\n",
    "    scope='usa',\n",
    "    color_continuous_scale='Plasma',\n",
    "    labels={'MEDIAN_SALE_PRICE': 'Avg Home Price'},\n",
    "    title='Average Median Home Sale Price by U.S. State'\n",
    ")\n",
    "\n",
    "fig.show()\n"
   ]
  },
  {
   "cell_type": "markdown",
   "id": "12632bf7",
   "metadata": {},
   "source": [
    "The map shows U.S. median home sale prices following with dark purple indicating the highest prices in states like California, New York, and Hawaii then Yellow represents states with the lowest prices such as West Virginia and Mississippi. Furthermore, the map graph highlights regional disparities, with coastal areas having more expensive housing."
   ]
  },
  {
   "cell_type": "code",
   "execution_count": 43,
   "id": "2e88c06b",
   "metadata": {},
   "outputs": [
    {
     "name": "stdout",
     "output_type": "stream",
     "text": [
      "<class 'pandas.core.frame.DataFrame'>\n",
      "Int64Index: 31881 entries, 0 to 31880\n",
      "Data columns (total 17 columns):\n",
      " #   Column                                                     Non-Null Count  Dtype         \n",
      "---  ------                                                     --------------  -----         \n",
      " 0   PERIOD_BEGIN                                               31881 non-null  datetime64[ns]\n",
      " 1   PERIOD_END                                                 31881 non-null  datetime64[ns]\n",
      " 2   STATE                                                      31881 non-null  object        \n",
      " 3   REGION                                                     31881 non-null  object        \n",
      " 4   STATE_CODE                                                 31881 non-null  object        \n",
      " 5   MEDIAN_SALE_PRICE                                          31881 non-null  int64         \n",
      " 6   HOMES_SOLD                                                 31881 non-null  int64         \n",
      " 7   INVENTORY                                                  31805 non-null  float64       \n",
      " 8   MONTH                                                      31881 non-null  int64         \n",
      " 9   YEAR                                                       31881 non-null  int64         \n",
      " 10  TOTAL CIVILIAN NON-INSTITUTIONAL POPULATION IN STATE/AREA  31881 non-null  object        \n",
      " 11  TOTAL CIVILIAN LABOR FORCE IN STATE/AREA                   31881 non-null  object        \n",
      " 12  PERCENT (%) OF STATE/AREA'S POPULATION                     31881 non-null  float64       \n",
      " 13  TOTAL EMPLOYMENT IN STATE/AREA                             31881 non-null  object        \n",
      " 14  PERCENT (%) OF LABOR FORCE EMPLOYED IN STATE/AREA          31881 non-null  float64       \n",
      " 15  TOTAL UNEMPLOYMENT IN STATE/AREA                           31881 non-null  object        \n",
      " 16  PERCENT (%) OF LABOR FORCE UNEMPLOYED IN STATE/AREA        31881 non-null  float64       \n",
      "dtypes: datetime64[ns](2), float64(4), int64(4), object(7)\n",
      "memory usage: 4.4+ MB\n"
     ]
    }
   ],
   "source": [
    "merged_df.info()"
   ]
  },
  {
   "cell_type": "code",
   "execution_count": 49,
   "id": "4a71e242",
   "metadata": {},
   "outputs": [],
   "source": [
    "merged_df = pd.read_excel(\"mergedUnemploymentxHousing_US.xlsx\")"
   ]
  },
  {
   "cell_type": "code",
   "execution_count": 52,
   "id": "57ffdeb0",
   "metadata": {},
   "outputs": [],
   "source": [
    "def calculate_pvalues(df):\n",
    "    \"\"\"Calculate a DataFrame of p-values for Pearson correlation.\"\"\"\n",
    "    df = df.select_dtypes(include=[np.number])  # Keep only numeric columns\n",
    "    cols = df.columns\n",
    "    pvalues = pd.DataFrame(np.ones((len(cols), len(cols))), columns=cols, index=cols)\n",
    "\n",
    "    for col1 in cols:\n",
    "        for col2 in cols:\n",
    "            if col1 != col2:\n",
    "                x = df[[col1, col2]].dropna()\n",
    "                if len(x) >= 2:  # Need at least 2 points\n",
    "                    _, p = pearsonr(x[col1], x[col2])\n",
    "                    pvalues.loc[col1, col2] = p\n",
    "                else:\n",
    "                    pvalues.loc[col1, col2] = np.nan\n",
    "            else:\n",
    "                pvalues.loc[col1, col2] = 0.0\n",
    "\n",
    "    return pvalues\n"
   ]
  },
  {
   "cell_type": "code",
   "execution_count": 53,
   "id": "55c4f5fd",
   "metadata": {},
   "outputs": [],
   "source": [
    "pval_matrix = calculate_pvalues(merged_df)"
   ]
  },
  {
   "cell_type": "code",
   "execution_count": 55,
   "id": "9dd5547a",
   "metadata": {},
   "outputs": [
    {
     "data": {
      "text/html": [
       "<div>\n",
       "<style scoped>\n",
       "    .dataframe tbody tr th:only-of-type {\n",
       "        vertical-align: middle;\n",
       "    }\n",
       "\n",
       "    .dataframe tbody tr th {\n",
       "        vertical-align: top;\n",
       "    }\n",
       "\n",
       "    .dataframe thead th {\n",
       "        text-align: right;\n",
       "    }\n",
       "</style>\n",
       "<table border=\"1\" class=\"dataframe\">\n",
       "  <thead>\n",
       "    <tr style=\"text-align: right;\">\n",
       "      <th></th>\n",
       "      <th>Unnamed: 0</th>\n",
       "      <th>MEDIAN_SALE_PRICE</th>\n",
       "      <th>HOMES_SOLD</th>\n",
       "      <th>INVENTORY</th>\n",
       "      <th>MONTH</th>\n",
       "      <th>YEAR</th>\n",
       "      <th>PERCENT (%) OF STATE/AREA'S POPULATION</th>\n",
       "      <th>PERCENT (%) OF LABOR FORCE EMPLOYED IN STATE/AREA</th>\n",
       "      <th>PERCENT (%) OF LABOR FORCE UNEMPLOYED IN STATE/AREA</th>\n",
       "    </tr>\n",
       "  </thead>\n",
       "  <tbody>\n",
       "    <tr>\n",
       "      <th>Unnamed: 0</th>\n",
       "      <td>0.000000</td>\n",
       "      <td>6.500908e-01</td>\n",
       "      <td>2.258784e-01</td>\n",
       "      <td>3.910819e-01</td>\n",
       "      <td>2.249500e-01</td>\n",
       "      <td>1.262179e-03</td>\n",
       "      <td>1.094152e-01</td>\n",
       "      <td>5.454683e-02</td>\n",
       "      <td>1.162265e-01</td>\n",
       "    </tr>\n",
       "    <tr>\n",
       "      <th>MEDIAN_SALE_PRICE</th>\n",
       "      <td>0.650091</td>\n",
       "      <td>0.000000e+00</td>\n",
       "      <td>1.276751e-156</td>\n",
       "      <td>1.231102e-12</td>\n",
       "      <td>9.518773e-18</td>\n",
       "      <td>0.000000e+00</td>\n",
       "      <td>1.954913e-05</td>\n",
       "      <td>6.949678e-26</td>\n",
       "      <td>3.007357e-111</td>\n",
       "    </tr>\n",
       "    <tr>\n",
       "      <th>HOMES_SOLD</th>\n",
       "      <td>0.225878</td>\n",
       "      <td>1.276751e-156</td>\n",
       "      <td>0.000000e+00</td>\n",
       "      <td>0.000000e+00</td>\n",
       "      <td>2.988145e-09</td>\n",
       "      <td>1.321577e-40</td>\n",
       "      <td>5.598571e-48</td>\n",
       "      <td>1.057403e-55</td>\n",
       "      <td>1.109908e-20</td>\n",
       "    </tr>\n",
       "    <tr>\n",
       "      <th>INVENTORY</th>\n",
       "      <td>0.391082</td>\n",
       "      <td>1.231102e-12</td>\n",
       "      <td>0.000000e+00</td>\n",
       "      <td>0.000000e+00</td>\n",
       "      <td>5.042151e-01</td>\n",
       "      <td>1.048487e-36</td>\n",
       "      <td>3.929248e-62</td>\n",
       "      <td>2.041914e-86</td>\n",
       "      <td>3.768909e-59</td>\n",
       "    </tr>\n",
       "    <tr>\n",
       "      <th>MONTH</th>\n",
       "      <td>0.224950</td>\n",
       "      <td>9.518773e-18</td>\n",
       "      <td>2.988145e-09</td>\n",
       "      <td>5.042151e-01</td>\n",
       "      <td>0.000000e+00</td>\n",
       "      <td>5.453835e-01</td>\n",
       "      <td>3.016686e-03</td>\n",
       "      <td>3.660451e-01</td>\n",
       "      <td>3.722182e-29</td>\n",
       "    </tr>\n",
       "    <tr>\n",
       "      <th>YEAR</th>\n",
       "      <td>0.001262</td>\n",
       "      <td>0.000000e+00</td>\n",
       "      <td>1.321577e-40</td>\n",
       "      <td>1.048487e-36</td>\n",
       "      <td>5.453835e-01</td>\n",
       "      <td>0.000000e+00</td>\n",
       "      <td>1.440069e-122</td>\n",
       "      <td>6.699972e-01</td>\n",
       "      <td>0.000000e+00</td>\n",
       "    </tr>\n",
       "    <tr>\n",
       "      <th>PERCENT (%) OF STATE/AREA'S POPULATION</th>\n",
       "      <td>0.109415</td>\n",
       "      <td>1.954913e-05</td>\n",
       "      <td>5.598571e-48</td>\n",
       "      <td>3.929248e-62</td>\n",
       "      <td>3.016686e-03</td>\n",
       "      <td>1.440069e-122</td>\n",
       "      <td>0.000000e+00</td>\n",
       "      <td>0.000000e+00</td>\n",
       "      <td>0.000000e+00</td>\n",
       "    </tr>\n",
       "    <tr>\n",
       "      <th>PERCENT (%) OF LABOR FORCE EMPLOYED IN STATE/AREA</th>\n",
       "      <td>0.054547</td>\n",
       "      <td>6.949678e-26</td>\n",
       "      <td>1.057403e-55</td>\n",
       "      <td>2.041914e-86</td>\n",
       "      <td>3.660451e-01</td>\n",
       "      <td>6.699972e-01</td>\n",
       "      <td>0.000000e+00</td>\n",
       "      <td>0.000000e+00</td>\n",
       "      <td>0.000000e+00</td>\n",
       "    </tr>\n",
       "    <tr>\n",
       "      <th>PERCENT (%) OF LABOR FORCE UNEMPLOYED IN STATE/AREA</th>\n",
       "      <td>0.116226</td>\n",
       "      <td>3.007357e-111</td>\n",
       "      <td>1.109908e-20</td>\n",
       "      <td>3.768909e-59</td>\n",
       "      <td>3.722182e-29</td>\n",
       "      <td>0.000000e+00</td>\n",
       "      <td>0.000000e+00</td>\n",
       "      <td>0.000000e+00</td>\n",
       "      <td>0.000000e+00</td>\n",
       "    </tr>\n",
       "  </tbody>\n",
       "</table>\n",
       "</div>"
      ],
      "text/plain": [
       "                                                    Unnamed: 0  \\\n",
       "Unnamed: 0                                            0.000000   \n",
       "MEDIAN_SALE_PRICE                                     0.650091   \n",
       "HOMES_SOLD                                            0.225878   \n",
       "INVENTORY                                             0.391082   \n",
       "MONTH                                                 0.224950   \n",
       "YEAR                                                  0.001262   \n",
       "PERCENT (%) OF STATE/AREA'S POPULATION                0.109415   \n",
       "PERCENT (%) OF LABOR FORCE EMPLOYED IN STATE/AREA     0.054547   \n",
       "PERCENT (%) OF LABOR FORCE UNEMPLOYED IN STATE/...    0.116226   \n",
       "\n",
       "                                                    MEDIAN_SALE_PRICE  \\\n",
       "Unnamed: 0                                               6.500908e-01   \n",
       "MEDIAN_SALE_PRICE                                        0.000000e+00   \n",
       "HOMES_SOLD                                              1.276751e-156   \n",
       "INVENTORY                                                1.231102e-12   \n",
       "MONTH                                                    9.518773e-18   \n",
       "YEAR                                                     0.000000e+00   \n",
       "PERCENT (%) OF STATE/AREA'S POPULATION                   1.954913e-05   \n",
       "PERCENT (%) OF LABOR FORCE EMPLOYED IN STATE/AREA        6.949678e-26   \n",
       "PERCENT (%) OF LABOR FORCE UNEMPLOYED IN STATE/...      3.007357e-111   \n",
       "\n",
       "                                                       HOMES_SOLD  \\\n",
       "Unnamed: 0                                           2.258784e-01   \n",
       "MEDIAN_SALE_PRICE                                   1.276751e-156   \n",
       "HOMES_SOLD                                           0.000000e+00   \n",
       "INVENTORY                                            0.000000e+00   \n",
       "MONTH                                                2.988145e-09   \n",
       "YEAR                                                 1.321577e-40   \n",
       "PERCENT (%) OF STATE/AREA'S POPULATION               5.598571e-48   \n",
       "PERCENT (%) OF LABOR FORCE EMPLOYED IN STATE/AREA    1.057403e-55   \n",
       "PERCENT (%) OF LABOR FORCE UNEMPLOYED IN STATE/...   1.109908e-20   \n",
       "\n",
       "                                                       INVENTORY  \\\n",
       "Unnamed: 0                                          3.910819e-01   \n",
       "MEDIAN_SALE_PRICE                                   1.231102e-12   \n",
       "HOMES_SOLD                                          0.000000e+00   \n",
       "INVENTORY                                           0.000000e+00   \n",
       "MONTH                                               5.042151e-01   \n",
       "YEAR                                                1.048487e-36   \n",
       "PERCENT (%) OF STATE/AREA'S POPULATION              3.929248e-62   \n",
       "PERCENT (%) OF LABOR FORCE EMPLOYED IN STATE/AREA   2.041914e-86   \n",
       "PERCENT (%) OF LABOR FORCE UNEMPLOYED IN STATE/...  3.768909e-59   \n",
       "\n",
       "                                                           MONTH  \\\n",
       "Unnamed: 0                                          2.249500e-01   \n",
       "MEDIAN_SALE_PRICE                                   9.518773e-18   \n",
       "HOMES_SOLD                                          2.988145e-09   \n",
       "INVENTORY                                           5.042151e-01   \n",
       "MONTH                                               0.000000e+00   \n",
       "YEAR                                                5.453835e-01   \n",
       "PERCENT (%) OF STATE/AREA'S POPULATION              3.016686e-03   \n",
       "PERCENT (%) OF LABOR FORCE EMPLOYED IN STATE/AREA   3.660451e-01   \n",
       "PERCENT (%) OF LABOR FORCE UNEMPLOYED IN STATE/...  3.722182e-29   \n",
       "\n",
       "                                                             YEAR  \\\n",
       "Unnamed: 0                                           1.262179e-03   \n",
       "MEDIAN_SALE_PRICE                                    0.000000e+00   \n",
       "HOMES_SOLD                                           1.321577e-40   \n",
       "INVENTORY                                            1.048487e-36   \n",
       "MONTH                                                5.453835e-01   \n",
       "YEAR                                                 0.000000e+00   \n",
       "PERCENT (%) OF STATE/AREA'S POPULATION              1.440069e-122   \n",
       "PERCENT (%) OF LABOR FORCE EMPLOYED IN STATE/AREA    6.699972e-01   \n",
       "PERCENT (%) OF LABOR FORCE UNEMPLOYED IN STATE/...   0.000000e+00   \n",
       "\n",
       "                                                    PERCENT (%) OF STATE/AREA'S POPULATION  \\\n",
       "Unnamed: 0                                                                    1.094152e-01   \n",
       "MEDIAN_SALE_PRICE                                                             1.954913e-05   \n",
       "HOMES_SOLD                                                                    5.598571e-48   \n",
       "INVENTORY                                                                     3.929248e-62   \n",
       "MONTH                                                                         3.016686e-03   \n",
       "YEAR                                                                         1.440069e-122   \n",
       "PERCENT (%) OF STATE/AREA'S POPULATION                                        0.000000e+00   \n",
       "PERCENT (%) OF LABOR FORCE EMPLOYED IN STATE/AREA                             0.000000e+00   \n",
       "PERCENT (%) OF LABOR FORCE UNEMPLOYED IN STATE/...                            0.000000e+00   \n",
       "\n",
       "                                                    PERCENT (%) OF LABOR FORCE EMPLOYED IN STATE/AREA  \\\n",
       "Unnamed: 0                                                                               5.454683e-02   \n",
       "MEDIAN_SALE_PRICE                                                                        6.949678e-26   \n",
       "HOMES_SOLD                                                                               1.057403e-55   \n",
       "INVENTORY                                                                                2.041914e-86   \n",
       "MONTH                                                                                    3.660451e-01   \n",
       "YEAR                                                                                     6.699972e-01   \n",
       "PERCENT (%) OF STATE/AREA'S POPULATION                                                   0.000000e+00   \n",
       "PERCENT (%) OF LABOR FORCE EMPLOYED IN STATE/AREA                                        0.000000e+00   \n",
       "PERCENT (%) OF LABOR FORCE UNEMPLOYED IN STATE/...                                       0.000000e+00   \n",
       "\n",
       "                                                    PERCENT (%) OF LABOR FORCE UNEMPLOYED IN STATE/AREA  \n",
       "Unnamed: 0                                                                               1.162265e-01    \n",
       "MEDIAN_SALE_PRICE                                                                       3.007357e-111    \n",
       "HOMES_SOLD                                                                               1.109908e-20    \n",
       "INVENTORY                                                                                3.768909e-59    \n",
       "MONTH                                                                                    3.722182e-29    \n",
       "YEAR                                                                                     0.000000e+00    \n",
       "PERCENT (%) OF STATE/AREA'S POPULATION                                                   0.000000e+00    \n",
       "PERCENT (%) OF LABOR FORCE EMPLOYED IN STATE/AREA                                        0.000000e+00    \n",
       "PERCENT (%) OF LABOR FORCE UNEMPLOYED IN STATE/...                                       0.000000e+00    "
      ]
     },
     "execution_count": 55,
     "metadata": {},
     "output_type": "execute_result"
    }
   ],
   "source": [
    "pval_matrix"
   ]
  },
  {
   "cell_type": "code",
   "execution_count": 45,
   "id": "7ad2b2b2",
   "metadata": {},
   "outputs": [
    {
     "data": {
      "image/png": "[encoded data removed]",
      "text/plain": [
       "<Figure size 1000x800 with 2 Axes>"
      ]
     },
     "metadata": {},
     "output_type": "display_data"
    }
   ],
   "source": [
    "# Assuming merged_df is your DataFrame\n",
    "# Select only numeric columns\n",
    "numeric_df = merged_df.select_dtypes(include=['number'])\n",
    "\n",
    "# Calculate the correlation matrix\n",
    "corr_matrix = numeric_df.corr(method='pearson')\n",
    "\n",
    "# Set up the matplotlib figure\n",
    "plt.figure(figsize=(10, 8))\n",
    "\n",
    "# Create the heatmap\n",
    "sns.heatmap(corr_matrix, annot=True, cmap='coolwarm', cbar=True, linewidths=0.5)\n",
    "\n",
    "# Set the title\n",
    "plt.title('Correlation Heatmap of Unemployment and Median Home Sale Prices')\n",
    "\n",
    "# Show the plot\n",
    "plt.show()\n"
   ]
  },
  {
   "cell_type": "markdown",
   "id": "8f5d406c",
   "metadata": {},
   "source": [
    "A heatmap reveals the relationship between variables in a dataset and its respective correlation to one another. For the merged dataset, we can observe the relationships between unemployment and median home sale prices with more in-depth details.\n",
    "\n",
    "The median sale price shows a moderate positive correlation with the year (0.42),thus, suggesting rising prices over time. Furthermore, we can observe a weak negative correlation with unemployment (−0.13) indicating a slight decrease in home prices with higher unemployment. For this, the percent of labor force employed has a strong positive correlation with the state’s population (0.95) and a moderate negative correlation with unemployment (−0.28). Finally, we can observe that the number of homes sold show weak correlations with most other variables. \n",
    "\n",
    "Overall, unemployment rates and housing prices show mild inverse correlations, with time likely contributing to rising prices."
   ]
  },
  {
   "cell_type": "markdown",
   "id": "15a4ed76",
   "metadata": {},
   "source": [
    "Obs: The key driver for the rise in median sale price appears to be the year, with a moderate positive correlation of 0.42. This suggests that over time, home prices are rising, likely due to factors such as inflation, increased demand, or economic growth."
   ]
  }
 ],
 "metadata": {
  "kernelspec": {
   "display_name": "base",
   "language": "python",
   "name": "python3"
  },
  "language_info": {
   "codemirror_mode": {
    "name": "ipython",
    "version": 3
   },
   "file_extension": ".py",
   "mimetype": "text/x-python",
   "name": "python",
   "nbconvert_exporter": "python",
   "pygments_lexer": "ipython3",
   "version": "3.11.4"
  }
 },
 "nbformat": 4,
 "nbformat_minor": 5
}
